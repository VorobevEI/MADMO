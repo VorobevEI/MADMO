{
 "cells": [
  {
   "cell_type": "markdown",
   "metadata": {
    "_uuid": "eefeff6e938c7c89d13d888cce97783a45dd6ef7"
   },
   "source": [
    "\n"
   ]
  },
  {
   "cell_type": "markdown",
   "metadata": {
    "_uuid": "c976b615374d7a9978c5bd31373660099e7d41a6"
   },
   "source": [
    "<img src=\"https://upload.wikimedia.org/wikipedia/commons/6/6e/St%C3%B6wer_Titanic.jpg\" width=\"520\">"
   ]
  },
  {
   "cell_type": "markdown",
   "metadata": {
    "_cell_guid": "c76e9748-472d-4203-9691-29bb048cda15",
    "_uuid": "516443644b05177df4927de9595a0b2d8af6d23b"
   },
   "source": [
    "# Titanic Survival: Seaborn and Ensembles\n",
    "**My second Titanic kernel**\n",
    "\n",
    "**[Part 0: Imports, Functions](#Part-0:-Imports,-Functions)** \n",
    "\n",
    "**[Part 1: Exploratory Data Analysis](#Part-1:-Exploratory-Data-Analysis)** \n",
    "\n",
    "* Seaborn [heatmaps](#Seaborn-heatmaps) : missing data in df_train and df_test\n",
    "* Seaborn [countplots](#Seaborn-Countplots) : Number of (Non-)Survivors as function of features\n",
    "* Seaborn [distplots](#Seaborn-Distplots) : Distribution of Age and Fare as function of Pclass, Sex and Survived  \n",
    "* [Bar and Box plots](#Bar-and-Box-plots) for categorical features : Pclass and Embarked\n",
    "* Seaborn [violin and swarm plots](#Swarm-and-Violin-plots) : Survivals as function of Age, Pclass and Sex\n",
    "\n",
    "**[Part 2: Data Wrangling and Feature Engineering](#Part-2:-Data-Wrangling-and-Feature-Engineering)**  \n",
    "\n",
    "* [Feature Engineering](#Feature-Engineering): include new features to improve the performance of the classifiers and to fill missing values:  \n",
    "Family size, Alone, Name length, Title\n",
    "* [Data Wrangling](#Data-Wrangling): fill NaN, convert categorical to numerical, [Standard Scaler](#Standard-Scaler), create X, y and X_test for Part 3\n",
    "\n",
    "\n",
    "**[Part 3: Optimization of Classifier parameters, Boosting, Voting and Stacking](#Part-3:-Optimization-of-Classifier-parameters,-Boosting,-Voting-and-Stacking)**  \n",
    "\n",
    "* Review: [k fold cross validation](#Review:-k-fold-cross-validation) for SVC and Random Forest: \n",
    " * SVC, features not scaled \n",
    " * SVC, features scaled \n",
    " * Random Forest Classifier, RFC, features not scaled \n",
    "* Hyperparameter tuning with GridSearchCV and RandomizedSearchCV for: \n",
    " * Support Vector Machine Classifier, [SVC](#SVC-:-RandomizedSearchCV) \n",
    " * K Nearest Neighbor, [KNN](#KNN)\n",
    " * [Decision Tree](#Decision-Tree)\n",
    " * [Random Forest Classifier](#Random-Forest), RFC\n",
    "\n",
    "* study Ensemble models like Boosting, Stacking and Voting:  \n",
    " * [ExtraTreesClassifier](#ExtraTreesClassifier)\n",
    " * Gradient Boost Decision Tree - [GBDT](#Gradient-Boost-Decision-Tree-GBDT)\n",
    " * eXtreme Gradient Boosting - [XGBoost](#eXtreme-Gradient-Boosting---XGBoost)   \n",
    " * Adaptive Boosting - [AdaBoost](#Ada-Boost)\n",
    " * [CatBoost](#CatBoost)\n",
    " * lightgbm [LGBM](#lightgbm-LGBM)\n",
    " * Voting: [VotingClassifier 1](#First-Voting), [VotingClassifier 2](#Second-Voting)  \n",
    " * Stacking : [StackingClassifier](#StackingClassifier)  \n",
    "* Compare Classifier performance based on the validation score : [comparison plot](#Comparison-plot-for-best-models)\n",
    "* Correlation of prediction results : [correlation matrix](#Correlation-of-prediction-results)"
   ]
  },
  {
   "cell_type": "markdown",
   "metadata": {
    "_uuid": "d6cc17b7ffde2b34d3b9381e6bc0537ed2dc5f42"
   },
   "source": [
    "* **TODO:**  \n",
    " \n",
    "compare feature importances  \n",
    "complete documentation"
   ]
  },
  {
   "cell_type": "markdown",
   "metadata": {
    "_uuid": "7989dd8a39412bc3f835c0d0136d8fc473dc583e"
   },
   "source": [
    "**References**  \n",
    "While this notebook contains some work work based on my ideas, it is also a collection of approaches  \n",
    "and techniques from these kaggle notebooks:"
   ]
  },
  {
   "cell_type": "markdown",
   "metadata": {
    "_cell_guid": "df8699f1-a231-497a-a889-36bf5585789f",
    "_uuid": "72fa912f6b2c2b29a2a19d2844a4ef492c0c2a2c",
    "collapsed": true
   },
   "source": [
    "# Part 0: Imports, Functions"
   ]
  },
  {
   "cell_type": "code",
   "execution_count": 98,
   "metadata": {
    "_cell_guid": "dd9249be-b5c2-46e0-a113-aaad799d84a8",
    "_uuid": "b3cde8bb9ad83a9de4e8be16a5b636606bb3abff"
   },
   "outputs": [
    {
     "data": {
      "text/html": [
       "        <script type=\"text/javascript\">\n",
       "        window.PlotlyConfig = {MathJaxConfig: 'local'};\n",
       "        if (window.MathJax) {MathJax.Hub.Config({SVG: {font: \"STIX-Web\"}});}\n",
       "        if (typeof require !== 'undefined') {\n",
       "        require.undef(\"plotly\");\n",
       "        requirejs.config({\n",
       "            paths: {\n",
       "                'plotly': ['https://cdn.plot.ly/plotly-latest.min']\n",
       "            }\n",
       "        });\n",
       "        require(['plotly'], function(Plotly) {\n",
       "            window._Plotly = Plotly;\n",
       "        });\n",
       "        }\n",
       "        </script>\n",
       "        "
      ]
     },
     "metadata": {},
     "output_type": "display_data"
    },
    {
     "name": "stdout",
     "output_type": "stream",
     "text": [
      "gender_submission.csv\n",
      "test.csv\n",
      "train.csv\n",
      "\n"
     ]
    }
   ],
   "source": [
    "import numpy as np\n",
    "import pandas as pd\n",
    "import matplotlib.pyplot as plt\n",
    "import seaborn as sns\n",
    "%matplotlib inline\n",
    "sns.set()\n",
    "\n",
    "# plotly library\n",
    "import plotly.graph_objs as go\n",
    "from plotly import tools\n",
    "from plotly.offline import init_notebook_mode, iplot\n",
    "init_notebook_mode(connected=True)\n",
    "\n",
    "\n",
    "import warnings\n",
    "warnings.filterwarnings(\"ignore\", category=DeprecationWarning)\n",
    "warnings.filterwarnings(\"ignore\", category=FutureWarning)\n",
    "#warnings.filterwarnings(\"ignore\")\n",
    "#warnings.filterwarnings(module='sklearn*', action='ignore', category=DeprecationWarning)\n",
    "#warnings.filterwarnings(action='once')\n",
    "\n",
    "from sklearn.utils._testing import ignore_warnings\n",
    "\n",
    "from subprocess import check_output\n",
    "print(check_output([\"ls\", \"input\"]).decode(\"utf8\"))"
   ]
  },
  {
   "cell_type": "code",
   "execution_count": 99,
   "metadata": {
    "_uuid": "bcfc913cf9e39fd333707e52bf53fb602eb54de4"
   },
   "outputs": [],
   "source": [
    "def warn(*args, **kwargs):\n",
    "    pass\n",
    "import warnings\n",
    "warnings.warn = warn"
   ]
  },
  {
   "cell_type": "markdown",
   "metadata": {
    "_uuid": "4bbd75cda07681e0de12de461ad1ab899ee733be"
   },
   "source": [
    "**some useful functions**"
   ]
  },
  {
   "cell_type": "code",
   "execution_count": 100,
   "metadata": {
    "_uuid": "4be4ad791c2abb29bf9dab327f703b949716ceba"
   },
   "outputs": [],
   "source": [
    "def get_best_score(model):\n",
    "    print(model.best_score_)    \n",
    "    print(model.best_params_)\n",
    "    print(model.best_estimator_)\n",
    "    \n",
    "    return model.best_score_\n",
    "\n",
    "\n",
    "def plot_feature_importances(model, columns):\n",
    "    nr_f = 10\n",
    "    imp = pd.Series(data = model.best_estimator_.feature_importances_, \n",
    "                    index=columns).sort_values(ascending=False)\n",
    "    plt.figure(figsize=(7,5))\n",
    "    plt.title(\"Feature importance\")\n",
    "    ax = sns.barplot(y=imp.index[:nr_f], x=imp.values[:nr_f], orient='h')"
   ]
  },
  {
   "cell_type": "markdown",
   "metadata": {
    "_uuid": "fc502fe60f34cee07d79bf321f4fe6450b931d10"
   },
   "source": [
    "**loading the data**"
   ]
  },
  {
   "cell_type": "code",
   "execution_count": 101,
   "metadata": {
    "_cell_guid": "4eb14f01-2aaa-4aee-a0e4-a0151b735005",
    "_uuid": "743cd840d8897335f9d6476ad3509cd8337015a4"
   },
   "outputs": [],
   "source": [
    "df_train = pd.read_csv(\"input/train.csv\")\n",
    "df_test = pd.read_csv(\"input/test.csv\")"
   ]
  },
  {
   "cell_type": "markdown",
   "metadata": {
    "_uuid": "ed7f3c79972850cfaff458b1286c05bfed8b8da7"
   },
   "source": [
    "# Part 1: Exploratory Data Analysis"
   ]
  },
  {
   "cell_type": "code",
   "execution_count": 102,
   "metadata": {
    "_uuid": "eb6816de0f06dc27ac0e439918a021e6f40284f6"
   },
   "outputs": [
    {
     "data": {
      "text/html": [
       "<div>\n",
       "<style scoped>\n",
       "    .dataframe tbody tr th:only-of-type {\n",
       "        vertical-align: middle;\n",
       "    }\n",
       "\n",
       "    .dataframe tbody tr th {\n",
       "        vertical-align: top;\n",
       "    }\n",
       "\n",
       "    .dataframe thead th {\n",
       "        text-align: right;\n",
       "    }\n",
       "</style>\n",
       "<table border=\"1\" class=\"dataframe\">\n",
       "  <thead>\n",
       "    <tr style=\"text-align: right;\">\n",
       "      <th></th>\n",
       "      <th>PassengerId</th>\n",
       "      <th>Survived</th>\n",
       "      <th>Pclass</th>\n",
       "      <th>Name</th>\n",
       "      <th>Sex</th>\n",
       "      <th>Age</th>\n",
       "      <th>SibSp</th>\n",
       "      <th>Parch</th>\n",
       "      <th>Ticket</th>\n",
       "      <th>Fare</th>\n",
       "      <th>Cabin</th>\n",
       "      <th>Embarked</th>\n",
       "    </tr>\n",
       "  </thead>\n",
       "  <tbody>\n",
       "    <tr>\n",
       "      <th>0</th>\n",
       "      <td>1</td>\n",
       "      <td>0</td>\n",
       "      <td>3</td>\n",
       "      <td>Braund, Mr. Owen Harris</td>\n",
       "      <td>male</td>\n",
       "      <td>22.0</td>\n",
       "      <td>1</td>\n",
       "      <td>0</td>\n",
       "      <td>A/5 21171</td>\n",
       "      <td>7.2500</td>\n",
       "      <td>NaN</td>\n",
       "      <td>S</td>\n",
       "    </tr>\n",
       "    <tr>\n",
       "      <th>1</th>\n",
       "      <td>2</td>\n",
       "      <td>1</td>\n",
       "      <td>1</td>\n",
       "      <td>Cumings, Mrs. John Bradley (Florence Briggs Th...</td>\n",
       "      <td>female</td>\n",
       "      <td>38.0</td>\n",
       "      <td>1</td>\n",
       "      <td>0</td>\n",
       "      <td>PC 17599</td>\n",
       "      <td>71.2833</td>\n",
       "      <td>C85</td>\n",
       "      <td>C</td>\n",
       "    </tr>\n",
       "    <tr>\n",
       "      <th>2</th>\n",
       "      <td>3</td>\n",
       "      <td>1</td>\n",
       "      <td>3</td>\n",
       "      <td>Heikkinen, Miss. Laina</td>\n",
       "      <td>female</td>\n",
       "      <td>26.0</td>\n",
       "      <td>0</td>\n",
       "      <td>0</td>\n",
       "      <td>STON/O2. 3101282</td>\n",
       "      <td>7.9250</td>\n",
       "      <td>NaN</td>\n",
       "      <td>S</td>\n",
       "    </tr>\n",
       "    <tr>\n",
       "      <th>3</th>\n",
       "      <td>4</td>\n",
       "      <td>1</td>\n",
       "      <td>1</td>\n",
       "      <td>Futrelle, Mrs. Jacques Heath (Lily May Peel)</td>\n",
       "      <td>female</td>\n",
       "      <td>35.0</td>\n",
       "      <td>1</td>\n",
       "      <td>0</td>\n",
       "      <td>113803</td>\n",
       "      <td>53.1000</td>\n",
       "      <td>C123</td>\n",
       "      <td>S</td>\n",
       "    </tr>\n",
       "    <tr>\n",
       "      <th>4</th>\n",
       "      <td>5</td>\n",
       "      <td>0</td>\n",
       "      <td>3</td>\n",
       "      <td>Allen, Mr. William Henry</td>\n",
       "      <td>male</td>\n",
       "      <td>35.0</td>\n",
       "      <td>0</td>\n",
       "      <td>0</td>\n",
       "      <td>373450</td>\n",
       "      <td>8.0500</td>\n",
       "      <td>NaN</td>\n",
       "      <td>S</td>\n",
       "    </tr>\n",
       "  </tbody>\n",
       "</table>\n",
       "</div>"
      ],
      "text/plain": [
       "   PassengerId  Survived  Pclass  \\\n",
       "0            1         0       3   \n",
       "1            2         1       1   \n",
       "2            3         1       3   \n",
       "3            4         1       1   \n",
       "4            5         0       3   \n",
       "\n",
       "                                                Name     Sex   Age  SibSp  \\\n",
       "0                            Braund, Mr. Owen Harris    male  22.0      1   \n",
       "1  Cumings, Mrs. John Bradley (Florence Briggs Th...  female  38.0      1   \n",
       "2                             Heikkinen, Miss. Laina  female  26.0      0   \n",
       "3       Futrelle, Mrs. Jacques Heath (Lily May Peel)  female  35.0      1   \n",
       "4                           Allen, Mr. William Henry    male  35.0      0   \n",
       "\n",
       "   Parch            Ticket     Fare Cabin Embarked  \n",
       "0      0         A/5 21171   7.2500   NaN        S  \n",
       "1      0          PC 17599  71.2833   C85        C  \n",
       "2      0  STON/O2. 3101282   7.9250   NaN        S  \n",
       "3      0            113803  53.1000  C123        S  \n",
       "4      0            373450   8.0500   NaN        S  "
      ]
     },
     "execution_count": 102,
     "metadata": {},
     "output_type": "execute_result"
    }
   ],
   "source": [
    "df_train.head()"
   ]
  },
  {
   "cell_type": "code",
   "execution_count": 103,
   "metadata": {
    "_cell_guid": "f6fa35b4-a7b2-4af9-b823-26f337585ef3",
    "_uuid": "7d42513ed10e8e1f2b123d83d62c441afb15f552"
   },
   "outputs": [
    {
     "data": {
      "text/html": [
       "<div>\n",
       "<style scoped>\n",
       "    .dataframe tbody tr th:only-of-type {\n",
       "        vertical-align: middle;\n",
       "    }\n",
       "\n",
       "    .dataframe tbody tr th {\n",
       "        vertical-align: top;\n",
       "    }\n",
       "\n",
       "    .dataframe thead th {\n",
       "        text-align: right;\n",
       "    }\n",
       "</style>\n",
       "<table border=\"1\" class=\"dataframe\">\n",
       "  <thead>\n",
       "    <tr style=\"text-align: right;\">\n",
       "      <th></th>\n",
       "      <th>PassengerId</th>\n",
       "      <th>Pclass</th>\n",
       "      <th>Name</th>\n",
       "      <th>Sex</th>\n",
       "      <th>Age</th>\n",
       "      <th>SibSp</th>\n",
       "      <th>Parch</th>\n",
       "      <th>Ticket</th>\n",
       "      <th>Fare</th>\n",
       "      <th>Cabin</th>\n",
       "      <th>Embarked</th>\n",
       "    </tr>\n",
       "  </thead>\n",
       "  <tbody>\n",
       "    <tr>\n",
       "      <th>0</th>\n",
       "      <td>892</td>\n",
       "      <td>3</td>\n",
       "      <td>Kelly, Mr. James</td>\n",
       "      <td>male</td>\n",
       "      <td>34.5</td>\n",
       "      <td>0</td>\n",
       "      <td>0</td>\n",
       "      <td>330911</td>\n",
       "      <td>7.8292</td>\n",
       "      <td>NaN</td>\n",
       "      <td>Q</td>\n",
       "    </tr>\n",
       "    <tr>\n",
       "      <th>1</th>\n",
       "      <td>893</td>\n",
       "      <td>3</td>\n",
       "      <td>Wilkes, Mrs. James (Ellen Needs)</td>\n",
       "      <td>female</td>\n",
       "      <td>47.0</td>\n",
       "      <td>1</td>\n",
       "      <td>0</td>\n",
       "      <td>363272</td>\n",
       "      <td>7.0000</td>\n",
       "      <td>NaN</td>\n",
       "      <td>S</td>\n",
       "    </tr>\n",
       "    <tr>\n",
       "      <th>2</th>\n",
       "      <td>894</td>\n",
       "      <td>2</td>\n",
       "      <td>Myles, Mr. Thomas Francis</td>\n",
       "      <td>male</td>\n",
       "      <td>62.0</td>\n",
       "      <td>0</td>\n",
       "      <td>0</td>\n",
       "      <td>240276</td>\n",
       "      <td>9.6875</td>\n",
       "      <td>NaN</td>\n",
       "      <td>Q</td>\n",
       "    </tr>\n",
       "    <tr>\n",
       "      <th>3</th>\n",
       "      <td>895</td>\n",
       "      <td>3</td>\n",
       "      <td>Wirz, Mr. Albert</td>\n",
       "      <td>male</td>\n",
       "      <td>27.0</td>\n",
       "      <td>0</td>\n",
       "      <td>0</td>\n",
       "      <td>315154</td>\n",
       "      <td>8.6625</td>\n",
       "      <td>NaN</td>\n",
       "      <td>S</td>\n",
       "    </tr>\n",
       "    <tr>\n",
       "      <th>4</th>\n",
       "      <td>896</td>\n",
       "      <td>3</td>\n",
       "      <td>Hirvonen, Mrs. Alexander (Helga E Lindqvist)</td>\n",
       "      <td>female</td>\n",
       "      <td>22.0</td>\n",
       "      <td>1</td>\n",
       "      <td>1</td>\n",
       "      <td>3101298</td>\n",
       "      <td>12.2875</td>\n",
       "      <td>NaN</td>\n",
       "      <td>S</td>\n",
       "    </tr>\n",
       "  </tbody>\n",
       "</table>\n",
       "</div>"
      ],
      "text/plain": [
       "   PassengerId  Pclass                                          Name     Sex  \\\n",
       "0          892       3                              Kelly, Mr. James    male   \n",
       "1          893       3              Wilkes, Mrs. James (Ellen Needs)  female   \n",
       "2          894       2                     Myles, Mr. Thomas Francis    male   \n",
       "3          895       3                              Wirz, Mr. Albert    male   \n",
       "4          896       3  Hirvonen, Mrs. Alexander (Helga E Lindqvist)  female   \n",
       "\n",
       "    Age  SibSp  Parch   Ticket     Fare Cabin Embarked  \n",
       "0  34.5      0      0   330911   7.8292   NaN        Q  \n",
       "1  47.0      1      0   363272   7.0000   NaN        S  \n",
       "2  62.0      0      0   240276   9.6875   NaN        Q  \n",
       "3  27.0      0      0   315154   8.6625   NaN        S  \n",
       "4  22.0      1      1  3101298  12.2875   NaN        S  "
      ]
     },
     "execution_count": 103,
     "metadata": {},
     "output_type": "execute_result"
    }
   ],
   "source": [
    "df_test.head()"
   ]
  },
  {
   "cell_type": "code",
   "execution_count": 104,
   "metadata": {
    "_cell_guid": "59e4222b-c7bb-4293-ac8e-fe2cd7ee464c",
    "_uuid": "398287f656942ee80b435aa1a456b0ca00d7e15e"
   },
   "outputs": [
    {
     "name": "stdout",
     "output_type": "stream",
     "text": [
      "<class 'pandas.core.frame.DataFrame'>\n",
      "RangeIndex: 891 entries, 0 to 890\n",
      "Data columns (total 12 columns):\n",
      " #   Column       Non-Null Count  Dtype  \n",
      "---  ------       --------------  -----  \n",
      " 0   PassengerId  891 non-null    int64  \n",
      " 1   Survived     891 non-null    int64  \n",
      " 2   Pclass       891 non-null    int64  \n",
      " 3   Name         891 non-null    object \n",
      " 4   Sex          891 non-null    object \n",
      " 5   Age          714 non-null    float64\n",
      " 6   SibSp        891 non-null    int64  \n",
      " 7   Parch        891 non-null    int64  \n",
      " 8   Ticket       891 non-null    object \n",
      " 9   Fare         891 non-null    float64\n",
      " 10  Cabin        204 non-null    object \n",
      " 11  Embarked     889 non-null    object \n",
      "dtypes: float64(2), int64(5), object(5)\n",
      "memory usage: 83.7+ KB\n"
     ]
    }
   ],
   "source": [
    "df_train.info()"
   ]
  },
  {
   "cell_type": "code",
   "execution_count": 105,
   "metadata": {
    "_cell_guid": "3da35916-fcb8-42ba-97dd-cf9a3d142205",
    "_uuid": "e80554dba6ad3aa4a0bb31af1e9fd36beb99747b"
   },
   "outputs": [
    {
     "name": "stdout",
     "output_type": "stream",
     "text": [
      "<class 'pandas.core.frame.DataFrame'>\n",
      "RangeIndex: 418 entries, 0 to 417\n",
      "Data columns (total 11 columns):\n",
      " #   Column       Non-Null Count  Dtype  \n",
      "---  ------       --------------  -----  \n",
      " 0   PassengerId  418 non-null    int64  \n",
      " 1   Pclass       418 non-null    int64  \n",
      " 2   Name         418 non-null    object \n",
      " 3   Sex          418 non-null    object \n",
      " 4   Age          332 non-null    float64\n",
      " 5   SibSp        418 non-null    int64  \n",
      " 6   Parch        418 non-null    int64  \n",
      " 7   Ticket       418 non-null    object \n",
      " 8   Fare         417 non-null    float64\n",
      " 9   Cabin        91 non-null     object \n",
      " 10  Embarked     418 non-null    object \n",
      "dtypes: float64(2), int64(4), object(5)\n",
      "memory usage: 36.0+ KB\n"
     ]
    }
   ],
   "source": [
    "df_test.info()"
   ]
  },
  {
   "cell_type": "markdown",
   "metadata": {
    "_uuid": "cebcf0f8a4eaa556b9b1813a2850c204213a9d30"
   },
   "source": [
    "Looks like the feature Cabin has lots of missing data, also some data for Age and Embarked is missing.  \n",
    "Lets plot the seaborn heatmap of the isnull matrix for the train and test data"
   ]
  },
  {
   "cell_type": "markdown",
   "metadata": {
    "_uuid": "78983b337f5ea7051b4fbf7041904e75046f33a3"
   },
   "source": [
    "### Seaborn heatmaps  \n",
    "missing data in df_train and df_test"
   ]
  },
  {
   "cell_type": "code",
   "execution_count": 108,
   "metadata": {
    "_uuid": "6ea1e985d4377ac3deb3857847f1c45be686d03b"
   },
   "outputs": [
    {
     "data": {
      "image/png": "[encoded data removed]",
      "text/plain": [
       "<Figure size 648x360 with 1 Axes>"
      ]
     },
     "metadata": {},
     "output_type": "display_data"
    }
   ],
   "source": [
    "fig, ax = plt.subplots(figsize=(9,5))\n",
    "sns.heatmap(df_train.isnull(), cbar=False, cmap=\"YlGnBu_r\")\n",
    "plt.show()"
   ]
  },
  {
   "cell_type": "code",
   "execution_count": 109,
   "metadata": {
    "_uuid": "7922322e5ccbc3f169cdb424a9e18d890b790d17"
   },
   "outputs": [
    {
     "data": {
      "image/png": "[encoded data removed]",
      "text/plain": [
       "<Figure size 648x360 with 1 Axes>"
      ]
     },
     "metadata": {},
     "output_type": "display_data"
    }
   ],
   "source": [
    "fig, ax = plt.subplots(figsize=(9,5))\n",
    "sns.heatmap(df_test.isnull(), cbar=False, cmap=\"YlGnBu_r\")\n",
    "plt.show()"
   ]
  },
  {
   "cell_type": "markdown",
   "metadata": {
    "_uuid": "e99e170472fa0fd32a69185bc5d4465c1de36a01"
   },
   "source": [
    "### Seaborn Countplots  \n",
    "for all categorical columns"
   ]
  },
  {
   "cell_type": "code",
   "execution_count": 110,
   "metadata": {
    "_uuid": "d22007373a24940b977b99cf1dbfce72c1866c31"
   },
   "outputs": [],
   "source": [
    "cols = ['Survived', 'Sex', 'Pclass', 'SibSp', 'Parch', 'Embarked']"
   ]
  },
  {
   "cell_type": "code",
   "execution_count": 111,
   "metadata": {
    "_uuid": "86c43dca8ef635c67ab0ebc37913a7ed3a4cdcd5"
   },
   "outputs": [
    {
     "data": {
      "image/png": "[encoded data removed]",
      "text/plain": [
       "<Figure size 756x432 with 6 Axes>"
      ]
     },
     "metadata": {},
     "output_type": "display_data"
    }
   ],
   "source": [
    "nr_rows = 2\n",
    "nr_cols = 3\n",
    "\n",
    "fig, axs = plt.subplots(nr_rows, nr_cols, figsize=(nr_cols*3.5,nr_rows*3))\n",
    "\n",
    "for r in range(0,nr_rows):\n",
    "    for c in range(0,nr_cols):  \n",
    "        \n",
    "        i = r*nr_cols+c       \n",
    "        ax = axs[r][c]\n",
    "        sns.countplot(df_train[cols[i]], hue=df_train[\"Survived\"], ax=ax)\n",
    "        ax.set_title(cols[i], fontsize=14, fontweight='bold')\n",
    "        ax.legend(title=\"survived\", loc='upper center') \n",
    "        \n",
    "# for col, ax in zip(cols, axs.flatten()):\n",
    "    # same code as above\n",
    "    \n",
    "plt.tight_layout()   "
   ]
  },
  {
   "cell_type": "markdown",
   "metadata": {
    "_uuid": "aed8e9b8fa45230eef039a81a25642e3b75f3e29"
   },
   "source": [
    "Of the 891 passengers in df_train, less than 350 survive.  \n",
    "Much more women survive than men.  \n",
    "Also, the chance to survive is much higher in Pclass 1 and 2 than in Class 3.  \n",
    "Survival rate for passengers travelling with SibSp or Parch is higher than for those travelling alone.  \n",
    "Passengers embarked in C and Q are more likely to survie than those embarked in S."
   ]
  },
  {
   "cell_type": "markdown",
   "metadata": {
    "_uuid": "61ee938b647de97d099a50490dfb0a7b597efdfd"
   },
   "source": [
    "### Seaborn Distplots \n",
    "**Distribution of Age as function of Pclass, Sex and Survived**"
   ]
  },
  {
   "cell_type": "code",
   "execution_count": 113,
   "metadata": {
    "_uuid": "aa58cc4703e3d51c134071a764d9ef17773c5f2a"
   },
   "outputs": [
    {
     "data": {
      "image/png": "[encoded data removed]",
      "text/plain": [
       "<Figure size 768.35x432 with 6 Axes>"
      ]
     },
     "metadata": {},
     "output_type": "display_data"
    }
   ],
   "source": [
    "bins = np.arange(0, 80, 5)\n",
    "g = sns.FacetGrid(df_train, row='Sex', col='Pclass', hue='Survived', margin_titles=True, size=3, aspect=1.1)\n",
    "g.map(sns.distplot, 'Age', kde=False, bins=bins, hist_kws=dict(alpha=0.6))\n",
    "g.add_legend()  \n",
    "plt.show()  "
   ]
  },
  {
   "cell_type": "markdown",
   "metadata": {
    "_uuid": "81ade1f3dbab6a5cb205198b5c8da9e396f4b49d"
   },
   "source": [
    "Best chances to survive for male passengers was in Pclass 1 or being below 5 years old.  \n",
    "Lowest survival rate for female passengers was in Pclass 3 and being older than 40.  \n",
    "Most passengers were male, in Pclass 3 and between 15-35 years old."
   ]
  },
  {
   "cell_type": "markdown",
   "metadata": {
    "_uuid": "8dde6fb25fbb2284a699280f6062125899fb47a6"
   },
   "source": [
    "**Disribution of Fare as function of Pclass, Sexand Survived**"
   ]
  },
  {
   "cell_type": "code",
   "execution_count": 15,
   "metadata": {
    "_uuid": "443c2b6c4f7072d044e1347f58b26d0a0b1cebff"
   },
   "outputs": [
    {
     "data": {
      "text/plain": [
       "512.3292"
      ]
     },
     "execution_count": 15,
     "metadata": {},
     "output_type": "execute_result"
    }
   ],
   "source": [
    "df_train['Fare'].max()"
   ]
  },
  {
   "cell_type": "code",
   "execution_count": 114,
   "metadata": {
    "_uuid": "76e76e62e3801becf03cba98da8cb994ed319bef"
   },
   "outputs": [
    {
     "data": {
      "image/png": "[encoded data removed]",
      "text/plain": [
       "<Figure size 768.35x648 with 9 Axes>"
      ]
     },
     "metadata": {},
     "output_type": "display_data"
    }
   ],
   "source": [
    "bins = np.arange(0, 300, 25)\n",
    "g = sns.FacetGrid(df_train, row='Pclass', col='Embarked', hue='Survived', margin_titles=True, size=3, aspect=1.1)\n",
    "g.map(sns.distplot, 'Fare', kde=False, bins=bins, hist_kws=dict(alpha=0.6))\n",
    "g.add_legend()  \n",
    "plt.show()  "
   ]
  },
  {
   "cell_type": "markdown",
   "metadata": {
    "_uuid": "acb0097d7c546d67830c53e7e7cd4c556d468e6d"
   },
   "source": [
    "### Bar and Box plots"
   ]
  },
  {
   "cell_type": "markdown",
   "metadata": {
    "_uuid": "06456b6058576b1726db96f803b100c21bdca56d"
   },
   "source": [
    "Default mode for seaborn barplots is to plot the mean value for the category.  \n",
    "Also, the standard deviation is indicated.  \n",
    "So, if we choose Survived as y-value, we get a plot of the survival rate as function   \n",
    "of the categories present in the feature chosen as x-value."
   ]
  },
  {
   "cell_type": "code",
   "execution_count": 17,
   "metadata": {
    "_uuid": "5046b71eb6be3598242a726aedf30d04a1491003"
   },
   "outputs": [
    {
     "data": {
      "image/png": "[encoded data removed]",
      "text/plain": [
       "<Figure size 432x288 with 1 Axes>"
      ]
     },
     "metadata": {},
     "output_type": "display_data"
    }
   ],
   "source": [
    "sns.barplot(x='Pclass', y='Survived', data=df_train)\n",
    "plt.ylabel(\"Survival Rate\")\n",
    "plt.title(\"Survival as function of Pclass\")\n",
    "plt.show()"
   ]
  },
  {
   "cell_type": "markdown",
   "metadata": {
    "_uuid": "af77e7afeccbc18cadbac4b94040523d8e7b21a6"
   },
   "source": [
    "As we know from the first Titanic kernel, survival rate decreses with Pclass.  \n",
    "The hue parameter lets us see the difference in survival rate for male and female. "
   ]
  },
  {
   "cell_type": "code",
   "execution_count": 18,
   "metadata": {
    "_uuid": "e368c2e9123a3169436a27e056e2fdc051dd9985"
   },
   "outputs": [
    {
     "data": {
      "image/png": "[encoded data removed]",
      "text/plain": [
       "<Figure size 432x288 with 1 Axes>"
      ]
     },
     "metadata": {},
     "output_type": "display_data"
    }
   ],
   "source": [
    "sns.barplot(x='Sex', y='Survived', hue='Pclass', data=df_train)\n",
    "plt.ylabel(\"Survival Rate\")\n",
    "plt.title(\"Survival as function of Pclass and Sex\")\n",
    "plt.show()"
   ]
  },
  {
   "cell_type": "markdown",
   "metadata": {
    "_uuid": "cac026f8b3e2a1bbac85c296e620e098981c7d15"
   },
   "source": [
    "Highest survival rate (>0.9) for women in Pclass 1 or 2.  \n",
    "Lowest survival rate (<0.2) for men in Pclass 3."
   ]
  },
  {
   "cell_type": "code",
   "execution_count": 22,
   "metadata": {
    "_uuid": "8d4b84bf6b80efd20fb8678192e84cd226788143"
   },
   "outputs": [
    {
     "data": {
      "image/png": "[encoded data removed]",
      "text/plain": [
       "<Figure size 432x288 with 1 Axes>"
      ]
     },
     "metadata": {},
     "output_type": "display_data"
    }
   ],
   "source": [
    "sns.barplot(x='Embarked', y='Survived', data=df_train)\n",
    "plt.ylabel(\"Survival Rate\")\n",
    "plt.title(\"Survival as function of Embarked Port\")\n",
    "plt.show()"
   ]
  },
  {
   "cell_type": "markdown",
   "metadata": {
    "_uuid": "38b1f9cfa96b78b2688fccb60efed98d5f922d45"
   },
   "source": [
    "Passengers embarked in \"S\" had the lowest survival rate, those embarked in \"C\" the highest.  \n",
    "Again, with hue we see the survival rate as function of Embarked and Pclass."
   ]
  },
  {
   "cell_type": "code",
   "execution_count": 23,
   "metadata": {
    "_uuid": "3c85b3682fdcefe059c6178b813cdc6b5bb44b72"
   },
   "outputs": [
    {
     "data": {
      "image/png": "[encoded data removed]",
      "text/plain": [
       "<Figure size 432x288 with 1 Axes>"
      ]
     },
     "metadata": {},
     "output_type": "display_data"
    }
   ],
   "source": [
    "sns.barplot(x='Embarked', y='Survived', hue='Pclass', data=df_train)\n",
    "plt.ylabel(\"Survival Rate\")\n",
    "plt.title(\"Survival as function of Embarked Port\")\n",
    "plt.show()"
   ]
  },
  {
   "cell_type": "markdown",
   "metadata": {
    "_uuid": "6c98be8b6c4a26cbb56033827d85231726b79156"
   },
   "source": [
    "But survival rate alone is not good beacuse its uncertainty depends on the number of samples.  \n",
    "We also need to consider the total number (count) of passengers that embarked."
   ]
  },
  {
   "cell_type": "code",
   "execution_count": 24,
   "metadata": {
    "_uuid": "fb70c2128f4c895b39f1857aaa1c5d8341fa74c6"
   },
   "outputs": [
    {
     "data": {
      "image/png": "[encoded data removed]",
      "text/plain": [
       "<Figure size 432x288 with 1 Axes>"
      ]
     },
     "metadata": {},
     "output_type": "display_data"
    }
   ],
   "source": [
    "sns.countplot(x='Embarked', hue='Pclass', data=df_train)\n",
    "plt.title(\"Count of Passengers as function of Embarked Port\")\n",
    "plt.show()"
   ]
  },
  {
   "cell_type": "markdown",
   "metadata": {
    "_uuid": "13b90c95f7f84986873924de25bdc2a47f210457"
   },
   "source": [
    "Passengers embarked in \"C\" had largest proportion of Pclass 1 tickets.  \n",
    "Almost all Passengers embarked in \"Q\" had Pclass 3 tickets.  \n",
    "For every class, the largest count of Passengers  embarked in \"S\"."
   ]
  },
  {
   "cell_type": "markdown",
   "metadata": {
    "_uuid": "6ba91cd707a5c1c1ae605ed8af7a053978e2ba9a"
   },
   "source": [
    "**Boxplot**"
   ]
  },
  {
   "cell_type": "code",
   "execution_count": 118,
   "metadata": {},
   "outputs": [
    {
     "data": {
      "text/html": [
       "<div>\n",
       "<style scoped>\n",
       "    .dataframe tbody tr th:only-of-type {\n",
       "        vertical-align: middle;\n",
       "    }\n",
       "\n",
       "    .dataframe tbody tr th {\n",
       "        vertical-align: top;\n",
       "    }\n",
       "\n",
       "    .dataframe thead th {\n",
       "        text-align: right;\n",
       "    }\n",
       "</style>\n",
       "<table border=\"1\" class=\"dataframe\">\n",
       "  <thead>\n",
       "    <tr style=\"text-align: right;\">\n",
       "      <th></th>\n",
       "      <th>PassengerId</th>\n",
       "      <th>Survived</th>\n",
       "      <th>Pclass</th>\n",
       "      <th>Name</th>\n",
       "      <th>Sex</th>\n",
       "      <th>Age</th>\n",
       "      <th>SibSp</th>\n",
       "      <th>Parch</th>\n",
       "      <th>Ticket</th>\n",
       "      <th>Fare</th>\n",
       "      <th>Cabin</th>\n",
       "      <th>Embarked</th>\n",
       "    </tr>\n",
       "  </thead>\n",
       "  <tbody>\n",
       "    <tr>\n",
       "      <th>96</th>\n",
       "      <td>97</td>\n",
       "      <td>0</td>\n",
       "      <td>1</td>\n",
       "      <td>Goldschmidt, Mr. George B</td>\n",
       "      <td>male</td>\n",
       "      <td>71.0</td>\n",
       "      <td>0</td>\n",
       "      <td>0</td>\n",
       "      <td>PC 17754</td>\n",
       "      <td>34.6542</td>\n",
       "      <td>A5</td>\n",
       "      <td>C</td>\n",
       "    </tr>\n",
       "    <tr>\n",
       "      <th>493</th>\n",
       "      <td>494</td>\n",
       "      <td>0</td>\n",
       "      <td>1</td>\n",
       "      <td>Artagaveytia, Mr. Ramon</td>\n",
       "      <td>male</td>\n",
       "      <td>71.0</td>\n",
       "      <td>0</td>\n",
       "      <td>0</td>\n",
       "      <td>PC 17609</td>\n",
       "      <td>49.5042</td>\n",
       "      <td>NaN</td>\n",
       "      <td>C</td>\n",
       "    </tr>\n",
       "  </tbody>\n",
       "</table>\n",
       "</div>"
      ],
      "text/plain": [
       "     PassengerId  Survived  Pclass                       Name   Sex   Age  \\\n",
       "96            97         0       1  Goldschmidt, Mr. George B  male  71.0   \n",
       "493          494         0       1    Artagaveytia, Mr. Ramon  male  71.0   \n",
       "\n",
       "     SibSp  Parch    Ticket     Fare Cabin Embarked  \n",
       "96       0      0  PC 17754  34.6542    A5        C  \n",
       "493      0      0  PC 17609  49.5042   NaN        C  "
      ]
     },
     "execution_count": 118,
     "metadata": {},
     "output_type": "execute_result"
    }
   ],
   "source": [
    "df_train[(df_train[\"Age\"] > 70) & (df_train[\"Embarked\"] == \"C\")]"
   ]
  },
  {
   "cell_type": "code",
   "execution_count": 25,
   "metadata": {
    "_uuid": "0dc97006850fc5a7ce3161139352677ca3427cf5"
   },
   "outputs": [
    {
     "data": {
      "image/png": "[encoded data removed]",
      "text/plain": [
       "<Figure size 432x288 with 1 Axes>"
      ]
     },
     "metadata": {},
     "output_type": "display_data"
    }
   ],
   "source": [
    "sns.boxplot(x='Embarked', y='Age', data=df_train)\n",
    "plt.title(\"Age distribution as function of Embarked Port\")\n",
    "plt.show()"
   ]
  },
  {
   "cell_type": "code",
   "execution_count": 119,
   "metadata": {
    "_uuid": "66c15c9cbae5a380e43c2ea5dbc25756bcb08b6d"
   },
   "outputs": [
    {
     "data": {
      "image/png": "[encoded data removed]",
      "text/plain": [
       "<Figure size 432x288 with 1 Axes>"
      ]
     },
     "metadata": {},
     "output_type": "display_data"
    }
   ],
   "source": [
    "sns.boxplot(x='Embarked', y='Fare', data=df_train)\n",
    "plt.title(\"Fare distribution as function of Embarked Port\")\n",
    "plt.show()"
   ]
  },
  {
   "cell_type": "code",
   "execution_count": 123,
   "metadata": {},
   "outputs": [
    {
     "data": {
      "text/html": [
       "<div>\n",
       "<style scoped>\n",
       "    .dataframe tbody tr th:only-of-type {\n",
       "        vertical-align: middle;\n",
       "    }\n",
       "\n",
       "    .dataframe tbody tr th {\n",
       "        vertical-align: top;\n",
       "    }\n",
       "\n",
       "    .dataframe thead th {\n",
       "        text-align: right;\n",
       "    }\n",
       "</style>\n",
       "<table border=\"1\" class=\"dataframe\">\n",
       "  <thead>\n",
       "    <tr style=\"text-align: right;\">\n",
       "      <th></th>\n",
       "      <th>PassengerId</th>\n",
       "      <th>Survived</th>\n",
       "      <th>Pclass</th>\n",
       "      <th>Name</th>\n",
       "      <th>Sex</th>\n",
       "      <th>Age</th>\n",
       "      <th>SibSp</th>\n",
       "      <th>Parch</th>\n",
       "      <th>Ticket</th>\n",
       "      <th>Fare</th>\n",
       "      <th>Cabin</th>\n",
       "      <th>Embarked</th>\n",
       "    </tr>\n",
       "  </thead>\n",
       "  <tbody>\n",
       "    <tr>\n",
       "      <th>258</th>\n",
       "      <td>259</td>\n",
       "      <td>1</td>\n",
       "      <td>1</td>\n",
       "      <td>Ward, Miss. Anna</td>\n",
       "      <td>female</td>\n",
       "      <td>35.0</td>\n",
       "      <td>0</td>\n",
       "      <td>0</td>\n",
       "      <td>PC 17755</td>\n",
       "      <td>512.3292</td>\n",
       "      <td>NaN</td>\n",
       "      <td>C</td>\n",
       "    </tr>\n",
       "    <tr>\n",
       "      <th>679</th>\n",
       "      <td>680</td>\n",
       "      <td>1</td>\n",
       "      <td>1</td>\n",
       "      <td>Cardeza, Mr. Thomas Drake Martinez</td>\n",
       "      <td>male</td>\n",
       "      <td>36.0</td>\n",
       "      <td>0</td>\n",
       "      <td>1</td>\n",
       "      <td>PC 17755</td>\n",
       "      <td>512.3292</td>\n",
       "      <td>B51 B53 B55</td>\n",
       "      <td>C</td>\n",
       "    </tr>\n",
       "    <tr>\n",
       "      <th>737</th>\n",
       "      <td>738</td>\n",
       "      <td>1</td>\n",
       "      <td>1</td>\n",
       "      <td>Lesurer, Mr. Gustave J</td>\n",
       "      <td>male</td>\n",
       "      <td>35.0</td>\n",
       "      <td>0</td>\n",
       "      <td>0</td>\n",
       "      <td>PC 17755</td>\n",
       "      <td>512.3292</td>\n",
       "      <td>B101</td>\n",
       "      <td>C</td>\n",
       "    </tr>\n",
       "  </tbody>\n",
       "</table>\n",
       "</div>"
      ],
      "text/plain": [
       "     PassengerId  Survived  Pclass                                Name  \\\n",
       "258          259         1       1                    Ward, Miss. Anna   \n",
       "679          680         1       1  Cardeza, Mr. Thomas Drake Martinez   \n",
       "737          738         1       1              Lesurer, Mr. Gustave J   \n",
       "\n",
       "        Sex   Age  SibSp  Parch    Ticket      Fare        Cabin Embarked  \n",
       "258  female  35.0      0      0  PC 17755  512.3292          NaN        C  \n",
       "679    male  36.0      0      1  PC 17755  512.3292  B51 B53 B55        C  \n",
       "737    male  35.0      0      0  PC 17755  512.3292         B101        C  "
      ]
     },
     "execution_count": 123,
     "metadata": {},
     "output_type": "execute_result"
    }
   ],
   "source": [
    "df_train[(df_train[\"Fare\"] > 500) & (df_train[\"Embarked\"] == \"C\")]"
   ]
  },
  {
   "cell_type": "markdown",
   "metadata": {
    "_uuid": "8fd6db1cc29f499160ed7e413fc3809249fec6af"
   },
   "source": [
    "### Swarm and Violin plots\n",
    "Although the following swarm and violin plots show the same data like the countplots or distplots before,  \n",
    "they can reveal ceratin details that disappear in other plots. However, it takes more time to study these plots in detail."
   ]
  },
  {
   "cell_type": "code",
   "execution_count": 124,
   "metadata": {
    "_cell_guid": "4b51a702-4ac3-41d9-bc9e-017095f182df",
    "_uuid": "9503eecb030f5bf4811bc44ea74680688ffc24ce"
   },
   "outputs": [],
   "source": [
    "cm_surv = [\"darkgrey\" , \"lightgreen\"]"
   ]
  },
  {
   "cell_type": "code",
   "execution_count": 126,
   "metadata": {
    "_cell_guid": "9ebcafe7-d0f2-43da-9b35-36bf015fcffa",
    "_uuid": "c6d8883b1314738f4f5611735931adcc8f66b9ca"
   },
   "outputs": [
    {
     "data": {
      "image/png": "[encoded data removed]",
      "text/plain": [
       "<Figure size 936x504 with 1 Axes>"
      ]
     },
     "metadata": {},
     "output_type": "display_data"
    }
   ],
   "source": [
    "fig, ax = plt.subplots(figsize=(13,7))\n",
    "sns.swarmplot(x='Pclass', y='Age', hue='Survived', split=True, data=df_train , palette=cm_surv, size=7, ax=ax)\n",
    "plt.title('Survivals for Age and Pclass ')\n",
    "plt.show()"
   ]
  },
  {
   "cell_type": "markdown",
   "metadata": {
    "_uuid": "1cbafd32ad9cd9aa7969bca632d243ae015465e6"
   },
   "source": [
    "Here, the high survival rate for kids in Pclass 2 is easily observed.  \n",
    "Also, it becomes more obvious that for passengers older than 40 the best chance to survive is in Pclass 1,  \n",
    "and smallest chance in Pclass 3   "
   ]
  },
  {
   "cell_type": "code",
   "execution_count": 134,
   "metadata": {
    "_uuid": "458981178ba818c953a26feb13544b6a693770a0"
   },
   "outputs": [
    {
     "data": {
      "image/png": "[encoded data removed]",
      "text/plain": [
       "<Figure size 936x504 with 1 Axes>"
      ]
     },
     "metadata": {},
     "output_type": "display_data"
    }
   ],
   "source": [
    "fig, ax = plt.subplots(figsize=(13,7))\n",
    "sns.violinplot(x=\"Pclass\", y=\"Age\", hue='Survived', data=df_train, split=True, bw=0.05, palette=cm_surv, ax=ax)\n",
    "plt.title('Survivals for Age and Pclass ')\n",
    "plt.show()"
   ]
  },
  {
   "cell_type": "markdown",
   "metadata": {
    "_uuid": "3360faff2afcee571dbdb1bffa360176abc10706"
   },
   "source": [
    "This violinplot shows exactly the same info like the swarmplot before."
   ]
  },
  {
   "cell_type": "code",
   "execution_count": 135,
   "metadata": {
    "_cell_guid": "7e5909fe-e7a7-46f5-8088-a28119940c7d",
    "_uuid": "96f46caeed68916f1537f1c5827e70d5676223d6"
   },
   "outputs": [
    {
     "data": {
      "image/png": "[encoded data removed]",
      "text/plain": [
       "<Figure size 962.75x504 with 2 Axes>"
      ]
     },
     "metadata": {},
     "output_type": "display_data"
    }
   ],
   "source": [
    "g = sns.factorplot(x=\"Pclass\", y=\"Age\", hue=\"Survived\", col=\"Sex\", \n",
    "                   data=df_train, kind=\"swarm\", split=True, palette=cm_surv, size=7, aspect=.9, s=7)"
   ]
  },
  {
   "cell_type": "code",
   "execution_count": 31,
   "metadata": {
    "_cell_guid": "45229661-05e3-4b9c-b923-335a1e5895d9",
    "_uuid": "140a8439a45917d5e1c7907484fa84b28a879013"
   },
   "outputs": [
    {
     "data": {
      "image/png": "[encoded data removed]",
      "text/plain": [
       "<Figure size 962.75x504 with 2 Axes>"
      ]
     },
     "metadata": {},
     "output_type": "display_data"
    }
   ],
   "source": [
    "g = sns.factorplot(x=\"Pclass\", y=\"Age\", hue=\"Survived\", col=\"Sex\", \n",
    "                   data=df_train, kind=\"violin\", split=True, bw=0.05, palette=cm_surv, size=7, aspect=.9, s=7)"
   ]
  },
  {
   "cell_type": "code",
   "execution_count": null,
   "metadata": {},
   "outputs": [],
   "source": [
    "# structure "
   ]
  },
  {
   "cell_type": "markdown",
   "metadata": {
    "_cell_guid": "68e72ad9-ce80-40f1-b67c-ba791da5026f",
    "_uuid": "5a9655832bad801213045322238a9d4e28bdb4cb",
    "collapsed": true
   },
   "source": [
    "# Part 2: Data Wrangling and Feature Engineering"
   ]
  },
  {
   "cell_type": "markdown",
   "metadata": {
    "_cell_guid": "0aab1df9-2123-4763-8cfc-86516fd20102",
    "_uuid": "02d903ebee901595e50d5bb5a9f78f9fef58cfb0"
   },
   "source": [
    "## Feature Engineering\n",
    "**New Features: 'FamilySize'  ,  'Alone' , 'NameLen' and 'Title'**"
   ]
  },
  {
   "cell_type": "code",
   "execution_count": 137,
   "metadata": {},
   "outputs": [],
   "source": [
    "import re"
   ]
  },
  {
   "cell_type": "code",
   "execution_count": 138,
   "metadata": {
    "_cell_guid": "e59d6406-f7ec-4218-b54b-c90e0257e341",
    "_uuid": "abfeff76692bbd2d787ad34c6e3bcd3003d536e7"
   },
   "outputs": [],
   "source": [
    "for df in [df_train, df_test]:\n",
    "    \n",
    "    df['FamilySize'] = df['SibSp'] + df['Parch'] + 1\n",
    "    \n",
    "    df['Alone'] = 0\n",
    "    df.loc[(df.FamilySize==1),'Alone'] = 1\n",
    "    \n",
    "    df['NameLen'] = df[\"Name\"].apply(lambda x : len(x)) \n",
    "    df['NameLenBin']=np.nan\n",
    "    for i in range(20,0,-1):\n",
    "        df.loc[ df['NameLen'] <= i*5, 'NameLenBin'] = i  # it means that 5*(i-1) < len(Name) <= 5*i\n",
    "    \n",
    "    \n",
    "    df['Title']=0 \n",
    "    # raw\n",
    "    df['Title']=df[\"Name\"].str.extract(r'([A-Za-z]+)\\.') #lets extract the Salutations\n",
    "    # Lady. Washington\n",
    "    df['Title'].replace(['Mlle','Mme','Ms','Dr','Major','Lady','Countess','Jonkheer','Col','Rev','Capt','Sir','Don'],\n",
    "                    ['Miss','Miss','Miss','Mr','Mr','Mrs','Mrs','Other','Other','Other','Mr','Mr','Mr'],inplace=True)"
   ]
  },
  {
   "cell_type": "code",
   "execution_count": 139,
   "metadata": {},
   "outputs": [
    {
     "data": {
      "text/plain": [
       "Index(['PassengerId', 'Survived', 'Pclass', 'Name', 'Sex', 'Age', 'SibSp',\n",
       "       'Parch', 'Ticket', 'Fare', 'Cabin', 'Embarked', 'FamilySize', 'Alone',\n",
       "       'NameLen', 'NameLenBin', 'Title'],\n",
       "      dtype='object')"
      ]
     },
     "execution_count": 139,
     "metadata": {},
     "output_type": "execute_result"
    }
   ],
   "source": [
    "df_train.columns"
   ]
  },
  {
   "cell_type": "code",
   "execution_count": 140,
   "metadata": {},
   "outputs": [
    {
     "data": {
      "text/html": [
       "<div>\n",
       "<style scoped>\n",
       "    .dataframe tbody tr th:only-of-type {\n",
       "        vertical-align: middle;\n",
       "    }\n",
       "\n",
       "    .dataframe tbody tr th {\n",
       "        vertical-align: top;\n",
       "    }\n",
       "\n",
       "    .dataframe thead th {\n",
       "        text-align: right;\n",
       "    }\n",
       "</style>\n",
       "<table border=\"1\" class=\"dataframe\">\n",
       "  <thead>\n",
       "    <tr style=\"text-align: right;\">\n",
       "      <th></th>\n",
       "      <th>PassengerId</th>\n",
       "      <th>Survived</th>\n",
       "      <th>Pclass</th>\n",
       "      <th>Name</th>\n",
       "      <th>Sex</th>\n",
       "      <th>Age</th>\n",
       "      <th>SibSp</th>\n",
       "      <th>Parch</th>\n",
       "      <th>Ticket</th>\n",
       "      <th>Fare</th>\n",
       "      <th>Cabin</th>\n",
       "      <th>Embarked</th>\n",
       "      <th>FamilySize</th>\n",
       "      <th>Alone</th>\n",
       "      <th>NameLen</th>\n",
       "      <th>NameLenBin</th>\n",
       "      <th>Title</th>\n",
       "    </tr>\n",
       "  </thead>\n",
       "  <tbody>\n",
       "    <tr>\n",
       "      <th>0</th>\n",
       "      <td>1</td>\n",
       "      <td>0</td>\n",
       "      <td>3</td>\n",
       "      <td>Braund, Mr. Owen Harris</td>\n",
       "      <td>male</td>\n",
       "      <td>22.0</td>\n",
       "      <td>1</td>\n",
       "      <td>0</td>\n",
       "      <td>A/5 21171</td>\n",
       "      <td>7.2500</td>\n",
       "      <td>NaN</td>\n",
       "      <td>S</td>\n",
       "      <td>2</td>\n",
       "      <td>0</td>\n",
       "      <td>23</td>\n",
       "      <td>5.0</td>\n",
       "      <td>Mr</td>\n",
       "    </tr>\n",
       "    <tr>\n",
       "      <th>1</th>\n",
       "      <td>2</td>\n",
       "      <td>1</td>\n",
       "      <td>1</td>\n",
       "      <td>Cumings, Mrs. John Bradley (Florence Briggs Th...</td>\n",
       "      <td>female</td>\n",
       "      <td>38.0</td>\n",
       "      <td>1</td>\n",
       "      <td>0</td>\n",
       "      <td>PC 17599</td>\n",
       "      <td>71.2833</td>\n",
       "      <td>C85</td>\n",
       "      <td>C</td>\n",
       "      <td>2</td>\n",
       "      <td>0</td>\n",
       "      <td>51</td>\n",
       "      <td>11.0</td>\n",
       "      <td>Mrs</td>\n",
       "    </tr>\n",
       "    <tr>\n",
       "      <th>2</th>\n",
       "      <td>3</td>\n",
       "      <td>1</td>\n",
       "      <td>3</td>\n",
       "      <td>Heikkinen, Miss. Laina</td>\n",
       "      <td>female</td>\n",
       "      <td>26.0</td>\n",
       "      <td>0</td>\n",
       "      <td>0</td>\n",
       "      <td>STON/O2. 3101282</td>\n",
       "      <td>7.9250</td>\n",
       "      <td>NaN</td>\n",
       "      <td>S</td>\n",
       "      <td>1</td>\n",
       "      <td>1</td>\n",
       "      <td>22</td>\n",
       "      <td>5.0</td>\n",
       "      <td>Miss</td>\n",
       "    </tr>\n",
       "  </tbody>\n",
       "</table>\n",
       "</div>"
      ],
      "text/plain": [
       "   PassengerId  Survived  Pclass  \\\n",
       "0            1         0       3   \n",
       "1            2         1       1   \n",
       "2            3         1       3   \n",
       "\n",
       "                                                Name     Sex   Age  SibSp  \\\n",
       "0                            Braund, Mr. Owen Harris    male  22.0      1   \n",
       "1  Cumings, Mrs. John Bradley (Florence Briggs Th...  female  38.0      1   \n",
       "2                             Heikkinen, Miss. Laina  female  26.0      0   \n",
       "\n",
       "   Parch            Ticket     Fare Cabin Embarked  FamilySize  Alone  \\\n",
       "0      0         A/5 21171   7.2500   NaN        S           2      0   \n",
       "1      0          PC 17599  71.2833   C85        C           2      0   \n",
       "2      0  STON/O2. 3101282   7.9250   NaN        S           1      1   \n",
       "\n",
       "   NameLen  NameLenBin Title  \n",
       "0       23         5.0    Mr  \n",
       "1       51        11.0   Mrs  \n",
       "2       22         5.0  Miss  "
      ]
     },
     "execution_count": 140,
     "metadata": {},
     "output_type": "execute_result"
    }
   ],
   "source": [
    "df_train.head(3)"
   ]
  },
  {
   "cell_type": "markdown",
   "metadata": {
    "_uuid": "0e8e77bdd2c3a2e42588b191c4aa566c998128e8"
   },
   "source": [
    "### New Feature: NameLenBin"
   ]
  },
  {
   "cell_type": "code",
   "execution_count": 141,
   "metadata": {
    "_uuid": "2bda8db28583210fa74dc8252832b7914ab2cdc9"
   },
   "outputs": [
    {
     "name": "stdout",
     "output_type": "stream",
     "text": [
      "   NameLen  NameLenBin\n",
      "0       23         5.0\n",
      "1       51        11.0\n",
      "2       22         5.0\n",
      "3       44         9.0\n",
      "4       24         5.0\n",
      "5       16         4.0\n",
      "6       23         5.0\n",
      "7       30         6.0\n",
      "8       49        10.0\n",
      "9       35         7.0\n"
     ]
    }
   ],
   "source": [
    "print(df_train[['NameLen' , 'NameLenBin']].head(10))"
   ]
  },
  {
   "cell_type": "code",
   "execution_count": 143,
   "metadata": {},
   "outputs": [
    {
     "data": {
      "text/plain": [
       "pandas.core.groupby.generic.DataFrameGroupBy"
      ]
     },
     "execution_count": 143,
     "metadata": {},
     "output_type": "execute_result"
    }
   ],
   "source": [
    "type(df_train.groupby(['NameLenBin']))"
   ]
  },
  {
   "cell_type": "code",
   "execution_count": 147,
   "metadata": {},
   "outputs": [
    {
     "data": {
      "text/plain": [
       "array(['Duff Gordon, Lady. (Lucille Christiana Sutherland) (\"Mrs Morgan\")',\n",
       "       'Brown, Mrs. Thomas William Solomon (Elizabeth Catherine Ford)'],\n",
       "      dtype=object)"
      ]
     },
     "execution_count": 147,
     "metadata": {},
     "output_type": "execute_result"
    }
   ],
   "source": [
    "df_train[df_train[\"NameLenBin\"] == 13][\"Name\"].values"
   ]
  },
  {
   "cell_type": "code",
   "execution_count": 142,
   "metadata": {
    "_uuid": "5fc75784461012fd394a2039a9b4b83d9560b134"
   },
   "outputs": [
    {
     "data": {
      "text/html": [
       "<div>\n",
       "<style scoped>\n",
       "    .dataframe tbody tr th:only-of-type {\n",
       "        vertical-align: middle;\n",
       "    }\n",
       "\n",
       "    .dataframe tbody tr th {\n",
       "        vertical-align: top;\n",
       "    }\n",
       "\n",
       "    .dataframe thead th {\n",
       "        text-align: right;\n",
       "    }\n",
       "</style>\n",
       "<table border=\"1\" class=\"dataframe\">\n",
       "  <thead>\n",
       "    <tr style=\"text-align: right;\">\n",
       "      <th></th>\n",
       "      <th>Survived</th>\n",
       "    </tr>\n",
       "    <tr>\n",
       "      <th>NameLenBin</th>\n",
       "      <th></th>\n",
       "    </tr>\n",
       "  </thead>\n",
       "  <tbody>\n",
       "    <tr>\n",
       "      <th>3.0</th>\n",
       "      <td>0.227273</td>\n",
       "    </tr>\n",
       "    <tr>\n",
       "      <th>4.0</th>\n",
       "      <td>0.230769</td>\n",
       "    </tr>\n",
       "    <tr>\n",
       "      <th>5.0</th>\n",
       "      <td>0.325581</td>\n",
       "    </tr>\n",
       "    <tr>\n",
       "      <th>6.0</th>\n",
       "      <td>0.364929</td>\n",
       "    </tr>\n",
       "    <tr>\n",
       "      <th>7.0</th>\n",
       "      <td>0.522727</td>\n",
       "    </tr>\n",
       "    <tr>\n",
       "      <th>8.0</th>\n",
       "      <td>0.477273</td>\n",
       "    </tr>\n",
       "    <tr>\n",
       "      <th>9.0</th>\n",
       "      <td>0.800000</td>\n",
       "    </tr>\n",
       "    <tr>\n",
       "      <th>10.0</th>\n",
       "      <td>0.800000</td>\n",
       "    </tr>\n",
       "    <tr>\n",
       "      <th>11.0</th>\n",
       "      <td>0.812500</td>\n",
       "    </tr>\n",
       "    <tr>\n",
       "      <th>12.0</th>\n",
       "      <td>0.600000</td>\n",
       "    </tr>\n",
       "    <tr>\n",
       "      <th>13.0</th>\n",
       "      <td>1.000000</td>\n",
       "    </tr>\n",
       "    <tr>\n",
       "      <th>14.0</th>\n",
       "      <td>1.000000</td>\n",
       "    </tr>\n",
       "    <tr>\n",
       "      <th>17.0</th>\n",
       "      <td>1.000000</td>\n",
       "    </tr>\n",
       "  </tbody>\n",
       "</table>\n",
       "</div>"
      ],
      "text/plain": [
       "            Survived\n",
       "NameLenBin          \n",
       "3.0         0.227273\n",
       "4.0         0.230769\n",
       "5.0         0.325581\n",
       "6.0         0.364929\n",
       "7.0         0.522727\n",
       "8.0         0.477273\n",
       "9.0         0.800000\n",
       "10.0        0.800000\n",
       "11.0        0.812500\n",
       "12.0        0.600000\n",
       "13.0        1.000000\n",
       "14.0        1.000000\n",
       "17.0        1.000000"
      ]
     },
     "execution_count": 142,
     "metadata": {},
     "output_type": "execute_result"
    }
   ],
   "source": [
    "grps_namelenbin_survrate = df_train.groupby(['NameLenBin'])['Survived'].mean().to_frame()\n",
    "# SELECT AVG(Survived) FROM df_train GROUP BY NameLenBin\n",
    "grps_namelenbin_survrate"
   ]
  },
  {
   "cell_type": "code",
   "execution_count": 63,
   "metadata": {
    "_uuid": "3fad4547c09ed32651e6dcc5baa6366808ba0c5c"
   },
   "outputs": [
    {
     "data": {
      "image/png": "[encoded data removed]",
      "text/plain": [
       "<Figure size 720x432 with 1 Axes>"
      ]
     },
     "metadata": {},
     "output_type": "display_data"
    }
   ],
   "source": [
    "plt.subplots(figsize=(10,6))\n",
    "sns.barplot(x='NameLenBin' , y='Survived', data = df_train)\n",
    "plt.ylabel(\"Survival Rate\")\n",
    "plt.title(\"Survival as function of NameLenBin\")\n",
    "plt.show()"
   ]
  },
  {
   "cell_type": "markdown",
   "metadata": {
    "_uuid": "47115304e170abe6d1ebb69977c2e0ac230abaf6"
   },
   "source": [
    "**Looks like there is very strong correlation of Survival rate and Name length**"
   ]
  },
  {
   "cell_type": "code",
   "execution_count": 148,
   "metadata": {
    "_cell_guid": "a911ef3b-b5f5-43bd-b764-a92a1389bdfc",
    "_uuid": "9645f7db5271e84e92bf8313daec95da0ce8cb1c"
   },
   "outputs": [
    {
     "data": {
      "image/png": "[encoded data removed]",
      "text/plain": [
       "<Figure size 648x504 with 1 Axes>"
      ]
     },
     "metadata": {},
     "output_type": "display_data"
    }
   ],
   "source": [
    "fig, ax = plt.subplots(figsize=(9,7))\n",
    "sns.violinplot(x=\"NameLenBin\", y=\"Pclass\", data=df_train, hue='Survived', split=True, \n",
    "               orient=\"h\", bw=0.2 , palette=cm_surv, ax=ax)\n",
    "plt.show()"
   ]
  },
  {
   "cell_type": "markdown",
   "metadata": {
    "_uuid": "72703e065c113095fb32fae0d2ffbdb6da8e1fb9"
   },
   "source": [
    "**Chance to survive increases with length of name for all Passenger classes**"
   ]
  },
  {
   "cell_type": "code",
   "execution_count": 65,
   "metadata": {
    "_uuid": "4ae40e3128c98359b4189eb39322c73f0a7346aa"
   },
   "outputs": [
    {
     "data": {
      "image/png": "[encoded data removed]",
      "text/plain": [
       "<Figure size 1296x360 with 3 Axes>"
      ]
     },
     "metadata": {},
     "output_type": "display_data"
    }
   ],
   "source": [
    "g = sns.factorplot(x=\"NameLenBin\", y=\"Survived\", col=\"Pclass\", data=df_train, kind=\"bar\", size=5, aspect=1.2)"
   ]
  },
  {
   "cell_type": "markdown",
   "metadata": {
    "_uuid": "2d57e159fb541f9643ff9af175d1b9085a4fbc7a"
   },
   "source": [
    "**Increase of survival rate with length of name most important for male passengers**"
   ]
  },
  {
   "cell_type": "markdown",
   "metadata": {
    "_uuid": "82850327ca3a2da1303f4722aeef1177907e918b"
   },
   "source": [
    "### New Feature: Title"
   ]
  },
  {
   "cell_type": "code",
   "execution_count": 150,
   "metadata": {
    "_uuid": "2cf07be40cb70f96c1dedb45b082bcf42b514b26"
   },
   "outputs": [
    {
     "data": {
      "text/html": [
       "<div>\n",
       "<style scoped>\n",
       "    .dataframe tbody tr th:only-of-type {\n",
       "        vertical-align: middle;\n",
       "    }\n",
       "\n",
       "    .dataframe tbody tr th {\n",
       "        vertical-align: top;\n",
       "    }\n",
       "\n",
       "    .dataframe thead th {\n",
       "        text-align: right;\n",
       "    }\n",
       "</style>\n",
       "<table border=\"1\" class=\"dataframe\">\n",
       "  <thead>\n",
       "    <tr style=\"text-align: right;\">\n",
       "      <th></th>\n",
       "      <th>Survived</th>\n",
       "    </tr>\n",
       "    <tr>\n",
       "      <th>Title</th>\n",
       "      <th></th>\n",
       "    </tr>\n",
       "  </thead>\n",
       "  <tbody>\n",
       "    <tr>\n",
       "      <th>Master</th>\n",
       "      <td>0.575000</td>\n",
       "    </tr>\n",
       "    <tr>\n",
       "      <th>Miss</th>\n",
       "      <td>0.704301</td>\n",
       "    </tr>\n",
       "    <tr>\n",
       "      <th>Mr</th>\n",
       "      <td>0.162571</td>\n",
       "    </tr>\n",
       "    <tr>\n",
       "      <th>Mrs</th>\n",
       "      <td>0.795276</td>\n",
       "    </tr>\n",
       "    <tr>\n",
       "      <th>Other</th>\n",
       "      <td>0.111111</td>\n",
       "    </tr>\n",
       "  </tbody>\n",
       "</table>\n",
       "</div>"
      ],
      "text/plain": [
       "        Survived\n",
       "Title           \n",
       "Master  0.575000\n",
       "Miss    0.704301\n",
       "Mr      0.162571\n",
       "Mrs     0.795276\n",
       "Other   0.111111"
      ]
     },
     "execution_count": 150,
     "metadata": {},
     "output_type": "execute_result"
    }
   ],
   "source": [
    "grps_title_survrate = df_train.groupby(['Title'])['Survived'].mean().to_frame()\n",
    "grps_title_survrate"
   ]
  },
  {
   "cell_type": "code",
   "execution_count": 151,
   "metadata": {},
   "outputs": [],
   "source": [
    "grps_title_survrate['Title'] = grps_title_survrate.index"
   ]
  },
  {
   "cell_type": "code",
   "execution_count": 152,
   "metadata": {},
   "outputs": [
    {
     "data": {
      "text/html": [
       "<div>\n",
       "<style scoped>\n",
       "    .dataframe tbody tr th:only-of-type {\n",
       "        vertical-align: middle;\n",
       "    }\n",
       "\n",
       "    .dataframe tbody tr th {\n",
       "        vertical-align: top;\n",
       "    }\n",
       "\n",
       "    .dataframe thead th {\n",
       "        text-align: right;\n",
       "    }\n",
       "</style>\n",
       "<table border=\"1\" class=\"dataframe\">\n",
       "  <thead>\n",
       "    <tr style=\"text-align: right;\">\n",
       "      <th></th>\n",
       "      <th>Survived</th>\n",
       "      <th>Title</th>\n",
       "    </tr>\n",
       "    <tr>\n",
       "      <th>Title</th>\n",
       "      <th></th>\n",
       "      <th></th>\n",
       "    </tr>\n",
       "  </thead>\n",
       "  <tbody>\n",
       "    <tr>\n",
       "      <th>Master</th>\n",
       "      <td>0.575000</td>\n",
       "      <td>Master</td>\n",
       "    </tr>\n",
       "    <tr>\n",
       "      <th>Miss</th>\n",
       "      <td>0.704301</td>\n",
       "      <td>Miss</td>\n",
       "    </tr>\n",
       "    <tr>\n",
       "      <th>Mr</th>\n",
       "      <td>0.162571</td>\n",
       "      <td>Mr</td>\n",
       "    </tr>\n",
       "    <tr>\n",
       "      <th>Mrs</th>\n",
       "      <td>0.795276</td>\n",
       "      <td>Mrs</td>\n",
       "    </tr>\n",
       "    <tr>\n",
       "      <th>Other</th>\n",
       "      <td>0.111111</td>\n",
       "      <td>Other</td>\n",
       "    </tr>\n",
       "  </tbody>\n",
       "</table>\n",
       "</div>"
      ],
      "text/plain": [
       "        Survived   Title\n",
       "Title                   \n",
       "Master  0.575000  Master\n",
       "Miss    0.704301    Miss\n",
       "Mr      0.162571      Mr\n",
       "Mrs     0.795276     Mrs\n",
       "Other   0.111111   Other"
      ]
     },
     "execution_count": 152,
     "metadata": {},
     "output_type": "execute_result"
    }
   ],
   "source": [
    "grps_title_survrate"
   ]
  },
  {
   "cell_type": "code",
   "execution_count": 153,
   "metadata": {
    "_uuid": "b15ad9526792da548e66e85a2b3ea0096332d727"
   },
   "outputs": [
    {
     "data": {
      "image/png": "[encoded data removed]",
      "text/plain": [
       "<Figure size 720x432 with 1 Axes>"
      ]
     },
     "metadata": {},
     "output_type": "display_data"
    }
   ],
   "source": [
    "plt.subplots(figsize=(10,6))\n",
    "sns.barplot(x='Title' , y='Survived' , data = grps_title_survrate)\n",
    "plt.ylabel(\"Survival Rate\")\n",
    "plt.title(\"Survival as function of Title\")\n",
    "plt.show()"
   ]
  },
  {
   "cell_type": "markdown",
   "metadata": {
    "_cell_guid": "16db4ccc-3442-4841-8177-1ca72d9c2fd9",
    "_uuid": "e9bb5071f13dc7412064f196d6be66a3f793157d"
   },
   "source": [
    "### New Feature: Family size"
   ]
  },
  {
   "cell_type": "code",
   "execution_count": 157,
   "metadata": {
    "_cell_guid": "19176c69-e460-446a-af57-f463690ae05e",
    "_uuid": "6b0eda771b8f3d93af1ab3ac8c55cfab22c62b18"
   },
   "outputs": [
    {
     "data": {
      "text/html": [
       "<style  type=\"text/css\" >\n",
       "#T_b14e0_row0_col0{\n",
       "            background-color:  #6bb566;\n",
       "            color:  #000000;\n",
       "        }#T_b14e0_row0_col1{\n",
       "            background-color:  #94ca66;\n",
       "            color:  #000000;\n",
       "        }#T_b14e0_row1_col0{\n",
       "            background-color:  #c3e166;\n",
       "            color:  #000000;\n",
       "        }#T_b14e0_row1_col1{\n",
       "            background-color:  #3c9e66;\n",
       "            color:  #000000;\n",
       "        }#T_b14e0_row2_col0{\n",
       "            background-color:  #cce666;\n",
       "            color:  #000000;\n",
       "        }#T_b14e0_row2_col1{\n",
       "            background-color:  #339966;\n",
       "            color:  #000000;\n",
       "        }#T_b14e0_row3_col0,#T_b14e0_row7_col1,#T_b14e0_row8_col1{\n",
       "            background-color:  #ffff66;\n",
       "            color:  #000000;\n",
       "        }#T_b14e0_row3_col1,#T_b14e0_row7_col0,#T_b14e0_row8_col0{\n",
       "            background-color:  #008066;\n",
       "            color:  #f1f1f1;\n",
       "        }#T_b14e0_row4_col0{\n",
       "            background-color:  #46a266;\n",
       "            color:  #000000;\n",
       "        }#T_b14e0_row4_col1{\n",
       "            background-color:  #b9dc66;\n",
       "            color:  #000000;\n",
       "        }#T_b14e0_row5_col0{\n",
       "            background-color:  #309866;\n",
       "            color:  #000000;\n",
       "        }#T_b14e0_row5_col1{\n",
       "            background-color:  #cfe766;\n",
       "            color:  #000000;\n",
       "        }#T_b14e0_row6_col0{\n",
       "            background-color:  #75ba66;\n",
       "            color:  #000000;\n",
       "        }#T_b14e0_row6_col1{\n",
       "            background-color:  #8ac466;\n",
       "            color:  #000000;\n",
       "        }</style><table id=\"T_b14e0_\" ><thead>    <tr>        <th class=\"index_name level0\" >Survived</th>        <th class=\"col_heading level0 col0\" >0</th>        <th class=\"col_heading level0 col1\" >1</th>    </tr>    <tr>        <th class=\"index_name level0\" >FamilySize</th>        <th class=\"blank\" ></th>        <th class=\"blank\" ></th>    </tr></thead><tbody>\n",
       "                <tr>\n",
       "                        <th id=\"T_b14e0_level0_row0\" class=\"row_heading level0 row0\" >1</th>\n",
       "                        <td id=\"T_b14e0_row0_col0\" class=\"data row0 col0\" >0.696462</td>\n",
       "                        <td id=\"T_b14e0_row0_col1\" class=\"data row0 col1\" >0.303538</td>\n",
       "            </tr>\n",
       "            <tr>\n",
       "                        <th id=\"T_b14e0_level0_row1\" class=\"row_heading level0 row1\" >2</th>\n",
       "                        <td id=\"T_b14e0_row1_col0\" class=\"data row1 col0\" >0.447205</td>\n",
       "                        <td id=\"T_b14e0_row1_col1\" class=\"data row1 col1\" >0.552795</td>\n",
       "            </tr>\n",
       "            <tr>\n",
       "                        <th id=\"T_b14e0_level0_row2\" class=\"row_heading level0 row2\" >3</th>\n",
       "                        <td id=\"T_b14e0_row2_col0\" class=\"data row2 col0\" >0.421569</td>\n",
       "                        <td id=\"T_b14e0_row2_col1\" class=\"data row2 col1\" >0.578431</td>\n",
       "            </tr>\n",
       "            <tr>\n",
       "                        <th id=\"T_b14e0_level0_row3\" class=\"row_heading level0 row3\" >4</th>\n",
       "                        <td id=\"T_b14e0_row3_col0\" class=\"data row3 col0\" >0.275862</td>\n",
       "                        <td id=\"T_b14e0_row3_col1\" class=\"data row3 col1\" >0.724138</td>\n",
       "            </tr>\n",
       "            <tr>\n",
       "                        <th id=\"T_b14e0_level0_row4\" class=\"row_heading level0 row4\" >5</th>\n",
       "                        <td id=\"T_b14e0_row4_col0\" class=\"data row4 col0\" >0.800000</td>\n",
       "                        <td id=\"T_b14e0_row4_col1\" class=\"data row4 col1\" >0.200000</td>\n",
       "            </tr>\n",
       "            <tr>\n",
       "                        <th id=\"T_b14e0_level0_row5\" class=\"row_heading level0 row5\" >6</th>\n",
       "                        <td id=\"T_b14e0_row5_col0\" class=\"data row5 col0\" >0.863636</td>\n",
       "                        <td id=\"T_b14e0_row5_col1\" class=\"data row5 col1\" >0.136364</td>\n",
       "            </tr>\n",
       "            <tr>\n",
       "                        <th id=\"T_b14e0_level0_row6\" class=\"row_heading level0 row6\" >7</th>\n",
       "                        <td id=\"T_b14e0_row6_col0\" class=\"data row6 col0\" >0.666667</td>\n",
       "                        <td id=\"T_b14e0_row6_col1\" class=\"data row6 col1\" >0.333333</td>\n",
       "            </tr>\n",
       "            <tr>\n",
       "                        <th id=\"T_b14e0_level0_row7\" class=\"row_heading level0 row7\" >8</th>\n",
       "                        <td id=\"T_b14e0_row7_col0\" class=\"data row7 col0\" >1.000000</td>\n",
       "                        <td id=\"T_b14e0_row7_col1\" class=\"data row7 col1\" >0.000000</td>\n",
       "            </tr>\n",
       "            <tr>\n",
       "                        <th id=\"T_b14e0_level0_row8\" class=\"row_heading level0 row8\" >11</th>\n",
       "                        <td id=\"T_b14e0_row8_col0\" class=\"data row8 col0\" >1.000000</td>\n",
       "                        <td id=\"T_b14e0_row8_col1\" class=\"data row8 col1\" >0.000000</td>\n",
       "            </tr>\n",
       "    </tbody></table>"
      ],
      "text/plain": [
       "<pandas.io.formats.style.Styler at 0x7fdf76e16f70>"
      ]
     },
     "execution_count": 157,
     "metadata": {},
     "output_type": "execute_result"
    }
   ],
   "source": [
    "pd.crosstab(df_train.FamilySize, df_train.Survived)\\\n",
    "            .apply(lambda r: r/r.sum(), axis=1).style.background_gradient(cmap='summer_r')"
   ]
  },
  {
   "cell_type": "code",
   "execution_count": 158,
   "metadata": {
    "_uuid": "3650f966c3900fbae0583936fc5d89b9f38782a1"
   },
   "outputs": [
    {
     "data": {
      "image/png": "[encoded data removed]",
      "text/plain": [
       "<Figure size 720x432 with 1 Axes>"
      ]
     },
     "metadata": {},
     "output_type": "display_data"
    }
   ],
   "source": [
    "plt.subplots(figsize=(10,6))\n",
    "sns.barplot(x='FamilySize' , y='Survived' , data=df_train)\n",
    "plt.ylabel(\"Survival Rate\")\n",
    "plt.title(\"Survival as function of FamilySize\")\n",
    "plt.show()"
   ]
  },
  {
   "cell_type": "markdown",
   "metadata": {
    "_cell_guid": "5022055a-3e7b-499c-b8d0-c513e8b0f35a",
    "_uuid": "3c06e01a59099eaf14071a6c99194952913dc929"
   },
   "source": [
    "## Data Wrangling"
   ]
  },
  {
   "cell_type": "code",
   "execution_count": 159,
   "metadata": {},
   "outputs": [
    {
     "name": "stdout",
     "output_type": "stream",
     "text": [
      "<class 'pandas.core.frame.DataFrame'>\n",
      "RangeIndex: 891 entries, 0 to 890\n",
      "Data columns (total 17 columns):\n",
      " #   Column       Non-Null Count  Dtype  \n",
      "---  ------       --------------  -----  \n",
      " 0   PassengerId  891 non-null    int64  \n",
      " 1   Survived     891 non-null    int64  \n",
      " 2   Pclass       891 non-null    int64  \n",
      " 3   Name         891 non-null    object \n",
      " 4   Sex          891 non-null    object \n",
      " 5   Age          714 non-null    float64\n",
      " 6   SibSp        891 non-null    int64  \n",
      " 7   Parch        891 non-null    int64  \n",
      " 8   Ticket       891 non-null    object \n",
      " 9   Fare         891 non-null    float64\n",
      " 10  Cabin        204 non-null    object \n",
      " 11  Embarked     889 non-null    object \n",
      " 12  FamilySize   891 non-null    int64  \n",
      " 13  Alone        891 non-null    int64  \n",
      " 14  NameLen      891 non-null    int64  \n",
      " 15  NameLenBin   891 non-null    float64\n",
      " 16  Title        891 non-null    object \n",
      "dtypes: float64(3), int64(8), object(6)\n",
      "memory usage: 118.5+ KB\n"
     ]
    }
   ],
   "source": [
    "df_train.info()"
   ]
  },
  {
   "cell_type": "code",
   "execution_count": 163,
   "metadata": {},
   "outputs": [
    {
     "name": "stdout",
     "output_type": "stream",
     "text": [
      "<class 'pandas.core.frame.DataFrame'>\n",
      "RangeIndex: 418 entries, 0 to 417\n",
      "Data columns (total 16 columns):\n",
      " #   Column       Non-Null Count  Dtype  \n",
      "---  ------       --------------  -----  \n",
      " 0   PassengerId  418 non-null    int64  \n",
      " 1   Pclass       418 non-null    int64  \n",
      " 2   Name         418 non-null    object \n",
      " 3   Sex          418 non-null    object \n",
      " 4   Age          418 non-null    float64\n",
      " 5   SibSp        418 non-null    int64  \n",
      " 6   Parch        418 non-null    int64  \n",
      " 7   Ticket       418 non-null    object \n",
      " 8   Fare         417 non-null    float64\n",
      " 9   Cabin        91 non-null     object \n",
      " 10  Embarked     418 non-null    object \n",
      " 11  FamilySize   418 non-null    int64  \n",
      " 12  Alone        418 non-null    int64  \n",
      " 13  NameLen      418 non-null    int64  \n",
      " 14  NameLenBin   418 non-null    float64\n",
      " 15  Title        418 non-null    object \n",
      "dtypes: float64(3), int64(7), object(6)\n",
      "memory usage: 52.4+ KB\n"
     ]
    }
   ],
   "source": [
    "df_test.info()"
   ]
  },
  {
   "cell_type": "code",
   "execution_count": 161,
   "metadata": {},
   "outputs": [
    {
     "data": {
      "text/plain": [
       "nan"
      ]
     },
     "execution_count": 161,
     "metadata": {},
     "output_type": "execute_result"
    }
   ],
   "source": [
    "np.nan * 10 + 5"
   ]
  },
  {
   "cell_type": "markdown",
   "metadata": {
    "_uuid": "07a6ee234f125a30a51db3c37708669d473d49cc"
   },
   "source": [
    "**Fill NaN with mean or mode**"
   ]
  },
  {
   "cell_type": "code",
   "execution_count": 162,
   "metadata": {
    "_uuid": "a6c316837a613aaa3c24136e67245b71a617b7de"
   },
   "outputs": [],
   "source": [
    "for df in [df_train, df_test]:\n",
    "\n",
    "    # Title\n",
    "    df['Title'] = df['Title'].fillna(df['Title'].mode().iloc[0])\n",
    "\n",
    "    # Age: use Title to fill missing values\n",
    "    df.loc[(df.Age.isnull())&(df.Title=='Mr'),'Age']= df.Age[df.Title==\"Mr\"].mean() #  -1000\n",
    "    df.loc[(df.Age.isnull())&(df.Title=='Mrs'),'Age']= df.Age[df.Title==\"Mrs\"].mean()\n",
    "    df.loc[(df.Age.isnull())&(df.Title=='Master'),'Age']= df.Age[df.Title==\"Master\"].mean()\n",
    "    df.loc[(df.Age.isnull())&(df.Title=='Miss'),'Age']= df.Age[df.Title==\"Miss\"].mean()\n",
    "    df.loc[(df.Age.isnull())&(df.Title=='Other'),'Age']= df.Age[df.Title==\"Other\"].mean()\n",
    "    df = df.drop('Name', axis=1)"
   ]
  },
  {
   "cell_type": "code",
   "execution_count": 74,
   "metadata": {
    "_uuid": "989de8d41dca37313ea87fb24d30ff891fbaff1a"
   },
   "outputs": [],
   "source": [
    "# Embarked\n",
    "df_train['Embarked'] = df_train['Embarked'].fillna(df_train['Embarked'].mode().iloc[0])\n",
    "df_test['Embarked'] = df_test['Embarked'].fillna(df_train['Embarked'].mode().iloc[0])\n",
    "\n",
    "# Fare\n",
    "df_train['Fare'] = df_train['Fare'].fillna(df_train['Fare'].mean())\n",
    "df_test['Fare'] = df_test['Fare'].fillna(df_train['Fare'].mean())"
   ]
  },
  {
   "cell_type": "markdown",
   "metadata": {
    "_uuid": "21c5ad50137cd2217c762805336ceec236a18923"
   },
   "source": [
    "### Bining for Age and Fare, convert Title to numerical"
   ]
  },
  {
   "cell_type": "code",
   "execution_count": 164,
   "metadata": {
    "_cell_guid": "75c5a59e-2d08-45c7-a409-7e28690e606d",
    "_uuid": "d5864918892e82de256d86b4edad592c448131ce"
   },
   "outputs": [],
   "source": [
    "for df in [df_train, df_test]:\n",
    "    \n",
    "    df['Age_bin']=np.nan\n",
    "    for i in range(8,0,-1):\n",
    "        df.loc[ df['Age'] <= i*10, 'Age_bin'] = i  # age_bin = i <=> (i - 1) * 10 < age < 10 * i \n",
    "        \n",
    "    df['Fare_bin']=np.nan\n",
    "    for i in range(12,0,-1):\n",
    "        df.loc[ df['Fare'] <= i*50, 'Fare_bin'] = i        \n",
    "    \n",
    "    # convert Title to numerical\n",
    "    df['Title'] = df['Title'].map({'Other':0, 'Mr': 1, 'Master':2, 'Miss': 3, 'Mrs': 4 } )\n",
    "    # fill na with maximum frequency mode\n",
    "    df['Title'] = df['Title'].fillna(df['Title'].mode().iloc[0])\n",
    "    df['Title'] = df['Title'].astype(int)        "
   ]
  },
  {
   "cell_type": "code",
   "execution_count": 166,
   "metadata": {
    "_cell_guid": "ee05ce0f-e873-4868-ae78-7313feaca36a",
    "_uuid": "afbb672b14fd43c5d09b1f9493c97ad85e83e106"
   },
   "outputs": [],
   "source": [
    "df_train_ml = df_train.copy()\n",
    "df_test_ml = df_test.copy()\n",
    "\n",
    "passenger_id = df_test_ml['PassengerId']"
   ]
  },
  {
   "cell_type": "markdown",
   "metadata": {
    "_uuid": "d74a866b2c6baddb8674f963a2ab2e6d64d78e99"
   },
   "source": [
    "**double-check for missing values**"
   ]
  },
  {
   "cell_type": "code",
   "execution_count": 167,
   "metadata": {
    "_uuid": "6ff39ab2a43bcd012151357676cf5f03840024fa"
   },
   "outputs": [
    {
     "name": "stdout",
     "output_type": "stream",
     "text": [
      "<class 'pandas.core.frame.DataFrame'>\n",
      "RangeIndex: 891 entries, 0 to 890\n",
      "Data columns (total 19 columns):\n",
      " #   Column       Non-Null Count  Dtype  \n",
      "---  ------       --------------  -----  \n",
      " 0   PassengerId  891 non-null    int64  \n",
      " 1   Survived     891 non-null    int64  \n",
      " 2   Pclass       891 non-null    int64  \n",
      " 3   Name         891 non-null    object \n",
      " 4   Sex          891 non-null    object \n",
      " 5   Age          891 non-null    float64\n",
      " 6   SibSp        891 non-null    int64  \n",
      " 7   Parch        891 non-null    int64  \n",
      " 8   Ticket       891 non-null    object \n",
      " 9   Fare         891 non-null    float64\n",
      " 10  Cabin        204 non-null    object \n",
      " 11  Embarked     889 non-null    object \n",
      " 12  FamilySize   891 non-null    int64  \n",
      " 13  Alone        891 non-null    int64  \n",
      " 14  NameLen      891 non-null    int64  \n",
      " 15  NameLenBin   891 non-null    float64\n",
      " 16  Title        891 non-null    int64  \n",
      " 17  Age_bin      891 non-null    float64\n",
      " 18  Fare_bin     891 non-null    float64\n",
      "dtypes: float64(5), int64(9), object(5)\n",
      "memory usage: 132.4+ KB\n"
     ]
    }
   ],
   "source": [
    "df_train_ml.info()"
   ]
  },
  {
   "cell_type": "code",
   "execution_count": 168,
   "metadata": {
    "_uuid": "d4ca8111422aa224dc0cd58f3318610e08b2c7e0"
   },
   "outputs": [
    {
     "name": "stdout",
     "output_type": "stream",
     "text": [
      "<class 'pandas.core.frame.DataFrame'>\n",
      "RangeIndex: 418 entries, 0 to 417\n",
      "Data columns (total 18 columns):\n",
      " #   Column       Non-Null Count  Dtype  \n",
      "---  ------       --------------  -----  \n",
      " 0   PassengerId  418 non-null    int64  \n",
      " 1   Pclass       418 non-null    int64  \n",
      " 2   Name         418 non-null    object \n",
      " 3   Sex          418 non-null    object \n",
      " 4   Age          418 non-null    float64\n",
      " 5   SibSp        418 non-null    int64  \n",
      " 6   Parch        418 non-null    int64  \n",
      " 7   Ticket       418 non-null    object \n",
      " 8   Fare         417 non-null    float64\n",
      " 9   Cabin        91 non-null     object \n",
      " 10  Embarked     418 non-null    object \n",
      " 11  FamilySize   418 non-null    int64  \n",
      " 12  Alone        418 non-null    int64  \n",
      " 13  NameLen      418 non-null    int64  \n",
      " 14  NameLenBin   418 non-null    float64\n",
      " 15  Title        418 non-null    int64  \n",
      " 16  Age_bin      418 non-null    float64\n",
      " 17  Fare_bin     417 non-null    float64\n",
      "dtypes: float64(5), int64(8), object(5)\n",
      "memory usage: 58.9+ KB\n"
     ]
    }
   ],
   "source": [
    "df_test_ml.info()"
   ]
  },
  {
   "cell_type": "code",
   "execution_count": null,
   "metadata": {},
   "outputs": [],
   "source": []
  },
  {
   "cell_type": "code",
   "execution_count": 169,
   "metadata": {
    "_cell_guid": "2e278f88-cacb-4663-82d7-580d9296a9b2",
    "_uuid": "9a216cff16c9a279d9d04a9fa6f0245709c4525b"
   },
   "outputs": [],
   "source": [
    "df_train_ml = pd.get_dummies(df_train_ml, columns=['Sex', 'Embarked', 'Pclass', \"Title\"], drop_first=True)\n",
    "df_test_ml = pd.get_dummies(df_test_ml, columns=['Sex', 'Embarked', 'Pclass', \"Title\"], drop_first=True)\n",
    "\n",
    "df_train_ml.drop(['PassengerId','Name','Ticket', 'Cabin', 'Age', 'Fare_bin'], axis=1,inplace=True)\n",
    "df_test_ml.drop(['PassengerId','Name','Ticket', 'Cabin', 'Age', 'Fare_bin'], axis=1,inplace=True)"
   ]
  },
  {
   "cell_type": "code",
   "execution_count": 170,
   "metadata": {
    "_cell_guid": "8479b1ff-39e7-442c-945d-208ecd20240e",
    "_uuid": "648619f264f15f5a3bd5a08b8333b817321ab372"
   },
   "outputs": [],
   "source": [
    "df_train_ml.dropna(inplace=True)"
   ]
  },
  {
   "cell_type": "code",
   "execution_count": 171,
   "metadata": {
    "_cell_guid": "a573e4fd-3aca-4c84-9d1c-32b8fccbc70f",
    "_uuid": "a5591b17d5c88820a8457d9182ff140e78aecafc"
   },
   "outputs": [],
   "source": [
    "for df in [df_train_ml, df_test_ml]:\n",
    "    df.drop(['NameLen'], axis=1, inplace=True)\n",
    "\n",
    "    df.drop(['SibSp'], axis=1, inplace=True)\n",
    "    df.drop(['Parch'], axis=1, inplace=True)\n",
    "    df.drop(['Alone'], axis=1, inplace=True)"
   ]
  },
  {
   "cell_type": "code",
   "execution_count": 172,
   "metadata": {
    "_cell_guid": "6d344374-4f70-4445-91e9-e90bcca608be",
    "_uuid": "09dd54b40924735c6b7e546ea4a1134a3be7fa38"
   },
   "outputs": [
    {
     "data": {
      "text/html": [
       "<div>\n",
       "<style scoped>\n",
       "    .dataframe tbody tr th:only-of-type {\n",
       "        vertical-align: middle;\n",
       "    }\n",
       "\n",
       "    .dataframe tbody tr th {\n",
       "        vertical-align: top;\n",
       "    }\n",
       "\n",
       "    .dataframe thead th {\n",
       "        text-align: right;\n",
       "    }\n",
       "</style>\n",
       "<table border=\"1\" class=\"dataframe\">\n",
       "  <thead>\n",
       "    <tr style=\"text-align: right;\">\n",
       "      <th></th>\n",
       "      <th>Survived</th>\n",
       "      <th>Fare</th>\n",
       "      <th>FamilySize</th>\n",
       "      <th>NameLenBin</th>\n",
       "      <th>Age_bin</th>\n",
       "      <th>Sex_male</th>\n",
       "      <th>Embarked_Q</th>\n",
       "      <th>Embarked_S</th>\n",
       "      <th>Pclass_2</th>\n",
       "      <th>Pclass_3</th>\n",
       "      <th>Title_1</th>\n",
       "      <th>Title_2</th>\n",
       "      <th>Title_3</th>\n",
       "      <th>Title_4</th>\n",
       "    </tr>\n",
       "  </thead>\n",
       "  <tbody>\n",
       "    <tr>\n",
       "      <th>0</th>\n",
       "      <td>0</td>\n",
       "      <td>7.2500</td>\n",
       "      <td>2</td>\n",
       "      <td>5.0</td>\n",
       "      <td>3.0</td>\n",
       "      <td>1</td>\n",
       "      <td>0</td>\n",
       "      <td>1</td>\n",
       "      <td>0</td>\n",
       "      <td>1</td>\n",
       "      <td>1</td>\n",
       "      <td>0</td>\n",
       "      <td>0</td>\n",
       "      <td>0</td>\n",
       "    </tr>\n",
       "    <tr>\n",
       "      <th>1</th>\n",
       "      <td>1</td>\n",
       "      <td>71.2833</td>\n",
       "      <td>2</td>\n",
       "      <td>11.0</td>\n",
       "      <td>4.0</td>\n",
       "      <td>0</td>\n",
       "      <td>0</td>\n",
       "      <td>0</td>\n",
       "      <td>0</td>\n",
       "      <td>0</td>\n",
       "      <td>0</td>\n",
       "      <td>0</td>\n",
       "      <td>0</td>\n",
       "      <td>1</td>\n",
       "    </tr>\n",
       "    <tr>\n",
       "      <th>2</th>\n",
       "      <td>1</td>\n",
       "      <td>7.9250</td>\n",
       "      <td>1</td>\n",
       "      <td>5.0</td>\n",
       "      <td>3.0</td>\n",
       "      <td>0</td>\n",
       "      <td>0</td>\n",
       "      <td>1</td>\n",
       "      <td>0</td>\n",
       "      <td>1</td>\n",
       "      <td>0</td>\n",
       "      <td>0</td>\n",
       "      <td>1</td>\n",
       "      <td>0</td>\n",
       "    </tr>\n",
       "    <tr>\n",
       "      <th>3</th>\n",
       "      <td>1</td>\n",
       "      <td>53.1000</td>\n",
       "      <td>2</td>\n",
       "      <td>9.0</td>\n",
       "      <td>4.0</td>\n",
       "      <td>0</td>\n",
       "      <td>0</td>\n",
       "      <td>1</td>\n",
       "      <td>0</td>\n",
       "      <td>0</td>\n",
       "      <td>0</td>\n",
       "      <td>0</td>\n",
       "      <td>0</td>\n",
       "      <td>1</td>\n",
       "    </tr>\n",
       "    <tr>\n",
       "      <th>4</th>\n",
       "      <td>0</td>\n",
       "      <td>8.0500</td>\n",
       "      <td>1</td>\n",
       "      <td>5.0</td>\n",
       "      <td>4.0</td>\n",
       "      <td>1</td>\n",
       "      <td>0</td>\n",
       "      <td>1</td>\n",
       "      <td>0</td>\n",
       "      <td>1</td>\n",
       "      <td>1</td>\n",
       "      <td>0</td>\n",
       "      <td>0</td>\n",
       "      <td>0</td>\n",
       "    </tr>\n",
       "  </tbody>\n",
       "</table>\n",
       "</div>"
      ],
      "text/plain": [
       "   Survived     Fare  FamilySize  NameLenBin  Age_bin  Sex_male  Embarked_Q  \\\n",
       "0         0   7.2500           2         5.0      3.0         1           0   \n",
       "1         1  71.2833           2        11.0      4.0         0           0   \n",
       "2         1   7.9250           1         5.0      3.0         0           0   \n",
       "3         1  53.1000           2         9.0      4.0         0           0   \n",
       "4         0   8.0500           1         5.0      4.0         1           0   \n",
       "\n",
       "   Embarked_S  Pclass_2  Pclass_3  Title_1  Title_2  Title_3  Title_4  \n",
       "0           1         0         1        1        0        0        0  \n",
       "1           0         0         0        0        0        0        1  \n",
       "2           1         0         1        0        0        1        0  \n",
       "3           1         0         0        0        0        0        1  \n",
       "4           1         0         1        1        0        0        0  "
      ]
     },
     "execution_count": 172,
     "metadata": {},
     "output_type": "execute_result"
    }
   ],
   "source": [
    "df_train_ml.head()"
   ]
  },
  {
   "cell_type": "code",
   "execution_count": 173,
   "metadata": {
    "_cell_guid": "4dd1904b-6c87-4cef-b60a-fa12af7313b7",
    "_uuid": "76dc20067df4131cfed1bba7b32cc4c4d66bf776"
   },
   "outputs": [
    {
     "data": {
      "text/html": [
       "<div>\n",
       "<style scoped>\n",
       "    .dataframe tbody tr th:only-of-type {\n",
       "        vertical-align: middle;\n",
       "    }\n",
       "\n",
       "    .dataframe tbody tr th {\n",
       "        vertical-align: top;\n",
       "    }\n",
       "\n",
       "    .dataframe thead th {\n",
       "        text-align: right;\n",
       "    }\n",
       "</style>\n",
       "<table border=\"1\" class=\"dataframe\">\n",
       "  <thead>\n",
       "    <tr style=\"text-align: right;\">\n",
       "      <th></th>\n",
       "      <th>Fare</th>\n",
       "      <th>FamilySize</th>\n",
       "      <th>NameLenBin</th>\n",
       "      <th>Age_bin</th>\n",
       "      <th>Sex_male</th>\n",
       "      <th>Embarked_Q</th>\n",
       "      <th>Embarked_S</th>\n",
       "      <th>Pclass_2</th>\n",
       "      <th>Pclass_3</th>\n",
       "      <th>Title_1</th>\n",
       "      <th>Title_2</th>\n",
       "      <th>Title_3</th>\n",
       "      <th>Title_4</th>\n",
       "    </tr>\n",
       "  </thead>\n",
       "  <tbody>\n",
       "    <tr>\n",
       "      <th>0</th>\n",
       "      <td>7.8292</td>\n",
       "      <td>1</td>\n",
       "      <td>4.0</td>\n",
       "      <td>4.0</td>\n",
       "      <td>1</td>\n",
       "      <td>1</td>\n",
       "      <td>0</td>\n",
       "      <td>0</td>\n",
       "      <td>1</td>\n",
       "      <td>1</td>\n",
       "      <td>0</td>\n",
       "      <td>0</td>\n",
       "      <td>0</td>\n",
       "    </tr>\n",
       "    <tr>\n",
       "      <th>1</th>\n",
       "      <td>7.0000</td>\n",
       "      <td>2</td>\n",
       "      <td>7.0</td>\n",
       "      <td>5.0</td>\n",
       "      <td>0</td>\n",
       "      <td>0</td>\n",
       "      <td>1</td>\n",
       "      <td>0</td>\n",
       "      <td>1</td>\n",
       "      <td>0</td>\n",
       "      <td>0</td>\n",
       "      <td>0</td>\n",
       "      <td>1</td>\n",
       "    </tr>\n",
       "    <tr>\n",
       "      <th>2</th>\n",
       "      <td>9.6875</td>\n",
       "      <td>1</td>\n",
       "      <td>5.0</td>\n",
       "      <td>7.0</td>\n",
       "      <td>1</td>\n",
       "      <td>1</td>\n",
       "      <td>0</td>\n",
       "      <td>1</td>\n",
       "      <td>0</td>\n",
       "      <td>1</td>\n",
       "      <td>0</td>\n",
       "      <td>0</td>\n",
       "      <td>0</td>\n",
       "    </tr>\n",
       "    <tr>\n",
       "      <th>3</th>\n",
       "      <td>8.6625</td>\n",
       "      <td>1</td>\n",
       "      <td>4.0</td>\n",
       "      <td>3.0</td>\n",
       "      <td>1</td>\n",
       "      <td>0</td>\n",
       "      <td>1</td>\n",
       "      <td>0</td>\n",
       "      <td>1</td>\n",
       "      <td>1</td>\n",
       "      <td>0</td>\n",
       "      <td>0</td>\n",
       "      <td>0</td>\n",
       "    </tr>\n",
       "    <tr>\n",
       "      <th>4</th>\n",
       "      <td>12.2875</td>\n",
       "      <td>3</td>\n",
       "      <td>9.0</td>\n",
       "      <td>3.0</td>\n",
       "      <td>0</td>\n",
       "      <td>0</td>\n",
       "      <td>1</td>\n",
       "      <td>0</td>\n",
       "      <td>1</td>\n",
       "      <td>0</td>\n",
       "      <td>0</td>\n",
       "      <td>0</td>\n",
       "      <td>1</td>\n",
       "    </tr>\n",
       "  </tbody>\n",
       "</table>\n",
       "</div>"
      ],
      "text/plain": [
       "      Fare  FamilySize  NameLenBin  Age_bin  Sex_male  Embarked_Q  Embarked_S  \\\n",
       "0   7.8292           1         4.0      4.0         1           1           0   \n",
       "1   7.0000           2         7.0      5.0         0           0           1   \n",
       "2   9.6875           1         5.0      7.0         1           1           0   \n",
       "3   8.6625           1         4.0      3.0         1           0           1   \n",
       "4  12.2875           3         9.0      3.0         0           0           1   \n",
       "\n",
       "   Pclass_2  Pclass_3  Title_1  Title_2  Title_3  Title_4  \n",
       "0         0         1        1        0        0        0  \n",
       "1         0         1        0        0        0        1  \n",
       "2         1         0        1        0        0        0  \n",
       "3         0         1        1        0        0        0  \n",
       "4         0         1        0        0        0        1  "
      ]
     },
     "execution_count": 173,
     "metadata": {},
     "output_type": "execute_result"
    }
   ],
   "source": [
    "df_test_ml.fillna(df_test_ml.mean(), inplace=True)\n",
    "df_test_ml.head()"
   ]
  },
  {
   "cell_type": "markdown",
   "metadata": {
    "_cell_guid": "11116a6f-d20f-414a-a027-2155f6d131be",
    "_uuid": "9f7a6b1e7ae917acbd9386d7e2e8695943eb7d82",
    "collapsed": true
   },
   "source": [
    "### Standard Scaler"
   ]
  },
  {
   "cell_type": "code",
   "execution_count": 174,
   "metadata": {
    "_cell_guid": "b8cc06e1-d296-4c46-8545-f80af5012392",
    "_uuid": "c5168360ebc7ada098f82dc55ab8c38ed9c7e7d1"
   },
   "outputs": [],
   "source": [
    "from sklearn.preprocessing import StandardScaler\n",
    "scaler = StandardScaler()\n",
    "\n",
    "# for df_train_ml\n",
    "scaler.fit(df_train_ml.drop(['Survived'],axis=1))\n",
    "scaled_features = scaler.transform(df_train_ml.drop(['Survived'],axis=1))\n",
    "df_train_ml_sc = pd.DataFrame(scaled_features) # columns=df_train_ml.columns[1::])\n",
    "\n",
    "# for df_test_ml\n",
    "# df_test_ml.fillna(df_test_ml.mean(), inplace=True)\n",
    "# scaler.fit(df_test_ml)\n",
    "scaled_features = scaler.transform(df_test_ml)\n",
    "df_test_ml_sc = pd.DataFrame(scaled_features) # , columns=df_test_ml.columns)"
   ]
  },
  {
   "cell_type": "code",
   "execution_count": 175,
   "metadata": {
    "_cell_guid": "61d1b324-0a1e-4e42-a443-5f000143bf71",
    "_uuid": "e330be877e16826a45136697a2bea8d7a3fa4e3d"
   },
   "outputs": [
    {
     "data": {
      "text/html": [
       "<div>\n",
       "<style scoped>\n",
       "    .dataframe tbody tr th:only-of-type {\n",
       "        vertical-align: middle;\n",
       "    }\n",
       "\n",
       "    .dataframe tbody tr th {\n",
       "        vertical-align: top;\n",
       "    }\n",
       "\n",
       "    .dataframe thead th {\n",
       "        text-align: right;\n",
       "    }\n",
       "</style>\n",
       "<table border=\"1\" class=\"dataframe\">\n",
       "  <thead>\n",
       "    <tr style=\"text-align: right;\">\n",
       "      <th></th>\n",
       "      <th>0</th>\n",
       "      <th>1</th>\n",
       "      <th>2</th>\n",
       "      <th>3</th>\n",
       "      <th>4</th>\n",
       "      <th>5</th>\n",
       "      <th>6</th>\n",
       "      <th>7</th>\n",
       "      <th>8</th>\n",
       "      <th>9</th>\n",
       "      <th>10</th>\n",
       "      <th>11</th>\n",
       "      <th>12</th>\n",
       "    </tr>\n",
       "  </thead>\n",
       "  <tbody>\n",
       "    <tr>\n",
       "      <th>0</th>\n",
       "      <td>-0.502445</td>\n",
       "      <td>0.059160</td>\n",
       "      <td>-0.422786</td>\n",
       "      <td>-0.363116</td>\n",
       "      <td>0.737695</td>\n",
       "      <td>-0.307562</td>\n",
       "      <td>0.619306</td>\n",
       "      <td>-0.510152</td>\n",
       "      <td>0.902587</td>\n",
       "      <td>0.827230</td>\n",
       "      <td>-0.216803</td>\n",
       "      <td>-0.513644</td>\n",
       "      <td>-0.407714</td>\n",
       "    </tr>\n",
       "    <tr>\n",
       "      <th>1</th>\n",
       "      <td>0.786845</td>\n",
       "      <td>0.059160</td>\n",
       "      <td>2.751669</td>\n",
       "      <td>0.385810</td>\n",
       "      <td>-1.355574</td>\n",
       "      <td>-0.307562</td>\n",
       "      <td>-1.614710</td>\n",
       "      <td>-0.510152</td>\n",
       "      <td>-1.107926</td>\n",
       "      <td>-1.208853</td>\n",
       "      <td>-0.216803</td>\n",
       "      <td>-0.513644</td>\n",
       "      <td>2.452702</td>\n",
       "    </tr>\n",
       "    <tr>\n",
       "      <th>2</th>\n",
       "      <td>-0.488854</td>\n",
       "      <td>-0.560975</td>\n",
       "      <td>-0.422786</td>\n",
       "      <td>-0.363116</td>\n",
       "      <td>-1.355574</td>\n",
       "      <td>-0.307562</td>\n",
       "      <td>0.619306</td>\n",
       "      <td>-0.510152</td>\n",
       "      <td>0.902587</td>\n",
       "      <td>-1.208853</td>\n",
       "      <td>-0.216803</td>\n",
       "      <td>1.946875</td>\n",
       "      <td>-0.407714</td>\n",
       "    </tr>\n",
       "    <tr>\n",
       "      <th>3</th>\n",
       "      <td>0.420730</td>\n",
       "      <td>0.059160</td>\n",
       "      <td>1.693517</td>\n",
       "      <td>0.385810</td>\n",
       "      <td>-1.355574</td>\n",
       "      <td>-0.307562</td>\n",
       "      <td>0.619306</td>\n",
       "      <td>-0.510152</td>\n",
       "      <td>-1.107926</td>\n",
       "      <td>-1.208853</td>\n",
       "      <td>-0.216803</td>\n",
       "      <td>-0.513644</td>\n",
       "      <td>2.452702</td>\n",
       "    </tr>\n",
       "    <tr>\n",
       "      <th>4</th>\n",
       "      <td>-0.486337</td>\n",
       "      <td>-0.560975</td>\n",
       "      <td>-0.422786</td>\n",
       "      <td>0.385810</td>\n",
       "      <td>0.737695</td>\n",
       "      <td>-0.307562</td>\n",
       "      <td>0.619306</td>\n",
       "      <td>-0.510152</td>\n",
       "      <td>0.902587</td>\n",
       "      <td>0.827230</td>\n",
       "      <td>-0.216803</td>\n",
       "      <td>-0.513644</td>\n",
       "      <td>-0.407714</td>\n",
       "    </tr>\n",
       "  </tbody>\n",
       "</table>\n",
       "</div>"
      ],
      "text/plain": [
       "         0         1         2         3         4         5         6   \\\n",
       "0 -0.502445  0.059160 -0.422786 -0.363116  0.737695 -0.307562  0.619306   \n",
       "1  0.786845  0.059160  2.751669  0.385810 -1.355574 -0.307562 -1.614710   \n",
       "2 -0.488854 -0.560975 -0.422786 -0.363116 -1.355574 -0.307562  0.619306   \n",
       "3  0.420730  0.059160  1.693517  0.385810 -1.355574 -0.307562  0.619306   \n",
       "4 -0.486337 -0.560975 -0.422786  0.385810  0.737695 -0.307562  0.619306   \n",
       "\n",
       "         7         8         9         10        11        12  \n",
       "0 -0.510152  0.902587  0.827230 -0.216803 -0.513644 -0.407714  \n",
       "1 -0.510152 -1.107926 -1.208853 -0.216803 -0.513644  2.452702  \n",
       "2 -0.510152  0.902587 -1.208853 -0.216803  1.946875 -0.407714  \n",
       "3 -0.510152 -1.107926 -1.208853 -0.216803 -0.513644  2.452702  \n",
       "4 -0.510152  0.902587  0.827230 -0.216803 -0.513644 -0.407714  "
      ]
     },
     "execution_count": 175,
     "metadata": {},
     "output_type": "execute_result"
    }
   ],
   "source": [
    "df_train_ml_sc.head()"
   ]
  },
  {
   "cell_type": "code",
   "execution_count": 176,
   "metadata": {
    "_cell_guid": "f08f9942-b474-4912-97da-f407c7dbb40c",
    "_uuid": "8a739b6b99294bbbe8bad0c2f099bec315e664b1"
   },
   "outputs": [
    {
     "data": {
      "text/html": [
       "<div>\n",
       "<style scoped>\n",
       "    .dataframe tbody tr th:only-of-type {\n",
       "        vertical-align: middle;\n",
       "    }\n",
       "\n",
       "    .dataframe tbody tr th {\n",
       "        vertical-align: top;\n",
       "    }\n",
       "\n",
       "    .dataframe thead th {\n",
       "        text-align: right;\n",
       "    }\n",
       "</style>\n",
       "<table border=\"1\" class=\"dataframe\">\n",
       "  <thead>\n",
       "    <tr style=\"text-align: right;\">\n",
       "      <th></th>\n",
       "      <th>0</th>\n",
       "      <th>1</th>\n",
       "      <th>2</th>\n",
       "      <th>3</th>\n",
       "      <th>4</th>\n",
       "      <th>5</th>\n",
       "      <th>6</th>\n",
       "      <th>7</th>\n",
       "      <th>8</th>\n",
       "      <th>9</th>\n",
       "      <th>10</th>\n",
       "      <th>11</th>\n",
       "      <th>12</th>\n",
       "    </tr>\n",
       "  </thead>\n",
       "  <tbody>\n",
       "    <tr>\n",
       "      <th>0</th>\n",
       "      <td>-0.490783</td>\n",
       "      <td>-0.560975</td>\n",
       "      <td>-0.951861</td>\n",
       "      <td>0.385810</td>\n",
       "      <td>0.737695</td>\n",
       "      <td>3.251373</td>\n",
       "      <td>-1.614710</td>\n",
       "      <td>-0.510152</td>\n",
       "      <td>0.902587</td>\n",
       "      <td>0.827230</td>\n",
       "      <td>-0.216803</td>\n",
       "      <td>-0.513644</td>\n",
       "      <td>-0.407714</td>\n",
       "    </tr>\n",
       "    <tr>\n",
       "      <th>1</th>\n",
       "      <td>-0.507479</td>\n",
       "      <td>0.059160</td>\n",
       "      <td>0.635366</td>\n",
       "      <td>1.134737</td>\n",
       "      <td>-1.355574</td>\n",
       "      <td>-0.307562</td>\n",
       "      <td>0.619306</td>\n",
       "      <td>-0.510152</td>\n",
       "      <td>0.902587</td>\n",
       "      <td>-1.208853</td>\n",
       "      <td>-0.216803</td>\n",
       "      <td>-0.513644</td>\n",
       "      <td>2.452702</td>\n",
       "    </tr>\n",
       "    <tr>\n",
       "      <th>2</th>\n",
       "      <td>-0.453367</td>\n",
       "      <td>-0.560975</td>\n",
       "      <td>-0.422786</td>\n",
       "      <td>2.632589</td>\n",
       "      <td>0.737695</td>\n",
       "      <td>3.251373</td>\n",
       "      <td>-1.614710</td>\n",
       "      <td>1.960202</td>\n",
       "      <td>-1.107926</td>\n",
       "      <td>0.827230</td>\n",
       "      <td>-0.216803</td>\n",
       "      <td>-0.513644</td>\n",
       "      <td>-0.407714</td>\n",
       "    </tr>\n",
       "    <tr>\n",
       "      <th>3</th>\n",
       "      <td>-0.474005</td>\n",
       "      <td>-0.560975</td>\n",
       "      <td>-0.951861</td>\n",
       "      <td>-0.363116</td>\n",
       "      <td>0.737695</td>\n",
       "      <td>-0.307562</td>\n",
       "      <td>0.619306</td>\n",
       "      <td>-0.510152</td>\n",
       "      <td>0.902587</td>\n",
       "      <td>0.827230</td>\n",
       "      <td>-0.216803</td>\n",
       "      <td>-0.513644</td>\n",
       "      <td>-0.407714</td>\n",
       "    </tr>\n",
       "    <tr>\n",
       "      <th>4</th>\n",
       "      <td>-0.401017</td>\n",
       "      <td>0.679295</td>\n",
       "      <td>1.693517</td>\n",
       "      <td>-0.363116</td>\n",
       "      <td>-1.355574</td>\n",
       "      <td>-0.307562</td>\n",
       "      <td>0.619306</td>\n",
       "      <td>-0.510152</td>\n",
       "      <td>0.902587</td>\n",
       "      <td>-1.208853</td>\n",
       "      <td>-0.216803</td>\n",
       "      <td>-0.513644</td>\n",
       "      <td>2.452702</td>\n",
       "    </tr>\n",
       "  </tbody>\n",
       "</table>\n",
       "</div>"
      ],
      "text/plain": [
       "         0         1         2         3         4         5         6   \\\n",
       "0 -0.490783 -0.560975 -0.951861  0.385810  0.737695  3.251373 -1.614710   \n",
       "1 -0.507479  0.059160  0.635366  1.134737 -1.355574 -0.307562  0.619306   \n",
       "2 -0.453367 -0.560975 -0.422786  2.632589  0.737695  3.251373 -1.614710   \n",
       "3 -0.474005 -0.560975 -0.951861 -0.363116  0.737695 -0.307562  0.619306   \n",
       "4 -0.401017  0.679295  1.693517 -0.363116 -1.355574 -0.307562  0.619306   \n",
       "\n",
       "         7         8         9         10        11        12  \n",
       "0 -0.510152  0.902587  0.827230 -0.216803 -0.513644 -0.407714  \n",
       "1 -0.510152  0.902587 -1.208853 -0.216803 -0.513644  2.452702  \n",
       "2  1.960202 -1.107926  0.827230 -0.216803 -0.513644 -0.407714  \n",
       "3 -0.510152  0.902587  0.827230 -0.216803 -0.513644 -0.407714  \n",
       "4 -0.510152  0.902587 -1.208853 -0.216803 -0.513644  2.452702  "
      ]
     },
     "execution_count": 176,
     "metadata": {},
     "output_type": "execute_result"
    }
   ],
   "source": [
    "df_test_ml_sc.head()"
   ]
  },
  {
   "cell_type": "code",
   "execution_count": 177,
   "metadata": {
    "_cell_guid": "888af9f8-787d-4f95-98b3-34e1ae7ebfab",
    "_uuid": "449593a9b77cf8e4a626abab09caa55399cc4c7b"
   },
   "outputs": [
    {
     "data": {
      "text/html": [
       "<div>\n",
       "<style scoped>\n",
       "    .dataframe tbody tr th:only-of-type {\n",
       "        vertical-align: middle;\n",
       "    }\n",
       "\n",
       "    .dataframe tbody tr th {\n",
       "        vertical-align: top;\n",
       "    }\n",
       "\n",
       "    .dataframe thead th {\n",
       "        text-align: right;\n",
       "    }\n",
       "</style>\n",
       "<table border=\"1\" class=\"dataframe\">\n",
       "  <thead>\n",
       "    <tr style=\"text-align: right;\">\n",
       "      <th></th>\n",
       "      <th>Survived</th>\n",
       "      <th>Fare</th>\n",
       "      <th>FamilySize</th>\n",
       "      <th>NameLenBin</th>\n",
       "      <th>Age_bin</th>\n",
       "      <th>Sex_male</th>\n",
       "      <th>Embarked_Q</th>\n",
       "      <th>Embarked_S</th>\n",
       "      <th>Pclass_2</th>\n",
       "      <th>Pclass_3</th>\n",
       "      <th>Title_1</th>\n",
       "      <th>Title_2</th>\n",
       "      <th>Title_3</th>\n",
       "      <th>Title_4</th>\n",
       "    </tr>\n",
       "  </thead>\n",
       "  <tbody>\n",
       "    <tr>\n",
       "      <th>0</th>\n",
       "      <td>0</td>\n",
       "      <td>7.2500</td>\n",
       "      <td>2</td>\n",
       "      <td>5.0</td>\n",
       "      <td>3.0</td>\n",
       "      <td>1</td>\n",
       "      <td>0</td>\n",
       "      <td>1</td>\n",
       "      <td>0</td>\n",
       "      <td>1</td>\n",
       "      <td>1</td>\n",
       "      <td>0</td>\n",
       "      <td>0</td>\n",
       "      <td>0</td>\n",
       "    </tr>\n",
       "    <tr>\n",
       "      <th>1</th>\n",
       "      <td>1</td>\n",
       "      <td>71.2833</td>\n",
       "      <td>2</td>\n",
       "      <td>11.0</td>\n",
       "      <td>4.0</td>\n",
       "      <td>0</td>\n",
       "      <td>0</td>\n",
       "      <td>0</td>\n",
       "      <td>0</td>\n",
       "      <td>0</td>\n",
       "      <td>0</td>\n",
       "      <td>0</td>\n",
       "      <td>0</td>\n",
       "      <td>1</td>\n",
       "    </tr>\n",
       "    <tr>\n",
       "      <th>2</th>\n",
       "      <td>1</td>\n",
       "      <td>7.9250</td>\n",
       "      <td>1</td>\n",
       "      <td>5.0</td>\n",
       "      <td>3.0</td>\n",
       "      <td>0</td>\n",
       "      <td>0</td>\n",
       "      <td>1</td>\n",
       "      <td>0</td>\n",
       "      <td>1</td>\n",
       "      <td>0</td>\n",
       "      <td>0</td>\n",
       "      <td>1</td>\n",
       "      <td>0</td>\n",
       "    </tr>\n",
       "    <tr>\n",
       "      <th>3</th>\n",
       "      <td>1</td>\n",
       "      <td>53.1000</td>\n",
       "      <td>2</td>\n",
       "      <td>9.0</td>\n",
       "      <td>4.0</td>\n",
       "      <td>0</td>\n",
       "      <td>0</td>\n",
       "      <td>1</td>\n",
       "      <td>0</td>\n",
       "      <td>0</td>\n",
       "      <td>0</td>\n",
       "      <td>0</td>\n",
       "      <td>0</td>\n",
       "      <td>1</td>\n",
       "    </tr>\n",
       "    <tr>\n",
       "      <th>4</th>\n",
       "      <td>0</td>\n",
       "      <td>8.0500</td>\n",
       "      <td>1</td>\n",
       "      <td>5.0</td>\n",
       "      <td>4.0</td>\n",
       "      <td>1</td>\n",
       "      <td>0</td>\n",
       "      <td>1</td>\n",
       "      <td>0</td>\n",
       "      <td>1</td>\n",
       "      <td>1</td>\n",
       "      <td>0</td>\n",
       "      <td>0</td>\n",
       "      <td>0</td>\n",
       "    </tr>\n",
       "  </tbody>\n",
       "</table>\n",
       "</div>"
      ],
      "text/plain": [
       "   Survived     Fare  FamilySize  NameLenBin  Age_bin  Sex_male  Embarked_Q  \\\n",
       "0         0   7.2500           2         5.0      3.0         1           0   \n",
       "1         1  71.2833           2        11.0      4.0         0           0   \n",
       "2         1   7.9250           1         5.0      3.0         0           0   \n",
       "3         1  53.1000           2         9.0      4.0         0           0   \n",
       "4         0   8.0500           1         5.0      4.0         1           0   \n",
       "\n",
       "   Embarked_S  Pclass_2  Pclass_3  Title_1  Title_2  Title_3  Title_4  \n",
       "0           1         0         1        1        0        0        0  \n",
       "1           0         0         0        0        0        0        1  \n",
       "2           1         0         1        0        0        1        0  \n",
       "3           1         0         0        0        0        0        1  \n",
       "4           1         0         1        1        0        0        0  "
      ]
     },
     "execution_count": 177,
     "metadata": {},
     "output_type": "execute_result"
    }
   ],
   "source": [
    "df_train_ml.head()"
   ]
  },
  {
   "cell_type": "code",
   "execution_count": 178,
   "metadata": {
    "_cell_guid": "89421e8a-b1db-4fef-a1a9-34e24215cb90",
    "_uuid": "7b0270499486447049d45d30e2e7ca8030687e94"
   },
   "outputs": [],
   "source": [
    "X = df_train_ml.drop('Survived', axis=1)\n",
    "y = df_train_ml['Survived']\n",
    "X_test = df_test_ml\n",
    "\n",
    "X_sc = df_train_ml_sc\n",
    "y_sc = df_train_ml['Survived']\n",
    "X_test_sc = df_test_ml_sc"
   ]
  },
  {
   "cell_type": "markdown",
   "metadata": {
    "_cell_guid": "736e0695-f4e0-4b57-aef3-333d7adbb683",
    "_uuid": "2712f9d83770f22d9ae99e8f8215819f2a3b3a82"
   },
   "source": [
    "# Part 3: Optimization of Classifier parameters, Boosting, Voting and Stacking"
   ]
  },
  {
   "cell_type": "code",
   "execution_count": 180,
   "metadata": {
    "_cell_guid": "14f68b32-dbbd-4b85-84b8-5854f4d5c93f",
    "_uuid": "4aea370e47f186c82db01a5d0fa969b53a974cd9"
   },
   "outputs": [],
   "source": [
    "from sklearn.neighbors import KNeighborsClassifier\n",
    "from sklearn.ensemble import RandomForestClassifier\n",
    "from sklearn.svm import SVC\n",
    "from sklearn import tree\n",
    "\n",
    "\n",
    "from sklearn.metrics import accuracy_score"
   ]
  },
  {
   "cell_type": "markdown",
   "metadata": {
    "_cell_guid": "f8d734f9-58a7-4716-b904-05ff9a3ed4bc",
    "_uuid": "6153edb8de8c2098949ba53104cc1804e8409c9c"
   },
   "source": [
    "### Review: k fold cross validation  \n",
    "just a short review of this technique that we already studied in the first kernel"
   ]
  },
  {
   "cell_type": "code",
   "execution_count": 181,
   "metadata": {
    "_cell_guid": "816f4fbd-ea5b-4b66-ab63-6755ad6a3eb2",
    "_uuid": "f9b6de77df983fd313fc6874e5f17f297e3bb98a"
   },
   "outputs": [],
   "source": [
    "from sklearn.model_selection import cross_val_score"
   ]
  },
  {
   "cell_type": "markdown",
   "metadata": {
    "_uuid": "b2f87d8cf2c929c6c26b485af625413d82626f5f"
   },
   "source": [
    "### SVC, features not scaled  \n",
    "Support Vector Machine Classifier"
   ]
  },
  {
   "cell_type": "code",
   "execution_count": 182,
   "metadata": {
    "_cell_guid": "42adfb87-b7a6-4b96-b528-10c577936b07",
    "_uuid": "49c40c750c000fe4308b95fc6f5b2e9184a660b3"
   },
   "outputs": [
    {
     "name": "stdout",
     "output_type": "stream",
     "text": [
      "[0.78888889 0.78651685 0.75280899 0.79775281 0.82022472 0.79775281\n",
      " 0.84269663 0.78651685 0.86516854 0.83146067]\n",
      "0.8069787765293382\n"
     ]
    }
   ],
   "source": [
    "svc = SVC(gamma = 0.01, C = 100)\n",
    "scores_svc = cross_val_score(svc, X, y, cv=10, scoring='accuracy')\n",
    "print(scores_svc)\n",
    "print(scores_svc.mean())"
   ]
  },
  {
   "cell_type": "markdown",
   "metadata": {
    "_uuid": "62ec10d765df9ed7e9691823272d4696f17f72d8"
   },
   "source": [
    "### SVC, features scaled  "
   ]
  },
  {
   "cell_type": "code",
   "execution_count": 183,
   "metadata": {
    "_cell_guid": "042ef7cd-0021-4418-ada4-8f5e2adaa44e",
    "_uuid": "a69a28bdf8282fab2b8a3516f59ce9bb78da21a8"
   },
   "outputs": [
    {
     "name": "stdout",
     "output_type": "stream",
     "text": [
      "[0.82222222 0.82022472 0.78651685 0.88764045 0.85393258 0.80898876\n",
      " 0.80898876 0.76404494 0.86516854 0.85393258]\n",
      "0.8271660424469414\n"
     ]
    }
   ],
   "source": [
    "svc = SVC(gamma = 0.01, C = 100)\n",
    "scores_svc_sc = cross_val_score(svc, X_sc, y_sc, cv=10, scoring='accuracy')\n",
    "print(scores_svc_sc)\n",
    "print(scores_svc_sc.mean())"
   ]
  },
  {
   "cell_type": "markdown",
   "metadata": {
    "_uuid": "479fcd6249def33f70e50787142a78023ecc4cfe"
   },
   "source": [
    "### RFC, features not scaled  "
   ]
  },
  {
   "cell_type": "code",
   "execution_count": 184,
   "metadata": {
    "_cell_guid": "c7b00476-9a8e-4718-935f-c35e7ae537ca",
    "_uuid": "e48d95845ef76336d8c9fa3baef7d88f7927ebba"
   },
   "outputs": [
    {
     "name": "stdout",
     "output_type": "stream",
     "text": [
      "[0.82222222 0.86516854 0.76404494 0.87640449 0.84269663 0.79775281\n",
      " 0.82022472 0.7752809  0.87640449 0.83146067]\n",
      "0.8271660424469414\n"
     ]
    }
   ],
   "source": [
    "rfc = RandomForestClassifier(max_depth=5, max_features=6)\n",
    "scores_rfc = cross_val_score(rfc, X, y, cv=10, scoring='accuracy')\n",
    "print(scores_rfc)\n",
    "print(scores_rfc.mean())"
   ]
  },
  {
   "cell_type": "code",
   "execution_count": 186,
   "metadata": {},
   "outputs": [
    {
     "name": "stdout",
     "output_type": "stream",
     "text": [
      "[0.81111111 0.86516854 0.76404494 0.88764045 0.85393258 0.78651685\n",
      " 0.82022472 0.76404494 0.87640449 0.84269663]\n",
      "0.8271785268414481\n"
     ]
    }
   ],
   "source": [
    "rfc = RandomForestClassifier(max_depth=5, max_features=6)\n",
    "scores_rfc_sc = cross_val_score(rfc, X_sc, y, cv=10, scoring='accuracy')\n",
    "print(scores_rfc_sc)\n",
    "print(scores_rfc_sc.mean())"
   ]
  },
  {
   "cell_type": "markdown",
   "metadata": {
    "_uuid": "2b30bc068331452225ed7a0565944279b3e20f06"
   },
   "source": [
    "## Hyperparameter tuning with RandomizedSearchCV and GridSearchCV"
   ]
  },
  {
   "cell_type": "markdown",
   "metadata": {
    "_uuid": "612d797d087e04f0c045dda3a775d91cbe231c24"
   },
   "source": [
    "**RandomizedSearchCV  and GridSearchCV apply k fold cross validation on a chosen set of parameters**\n",
    "**and then find the parameters that give the best performance.**  \n",
    "For GridSearchCV, all possible combinations of the specified parameter values are tried out, resulting in a parameter grid.  \n",
    "For RandomizedSearchCV, a fixed number of parameter settings is sampled from the specified distributions. The number of parameter settings that are tried is given by n_iter."
   ]
  },
  {
   "cell_type": "code",
   "execution_count": 187,
   "metadata": {
    "_cell_guid": "bbf35a28-e60d-45ec-a914-375fd74ec1ef",
    "_uuid": "c324660e5cf7d38401edd4446e9825663819be86"
   },
   "outputs": [],
   "source": [
    "from sklearn.model_selection import RandomizedSearchCV\n",
    "from sklearn.model_selection import GridSearchCV\n",
    "from scipy.stats import uniform"
   ]
  },
  {
   "cell_type": "markdown",
   "metadata": {
    "_uuid": "629360e3926289e712d33515e7df61b8277b883e"
   },
   "source": [
    "**In the following we apply GridSearchCV and RandomizedSearchCV for these Classification models:**  \n",
    "**KNN, Decision Tree, Random Forest, SVC**"
   ]
  },
  {
   "cell_type": "markdown",
   "metadata": {
    "_uuid": "e2ca4fc4f333cca22fdb5cc514e8a5bdfb9032b2"
   },
   "source": [
    "### SVC : RandomizedSearchCV"
   ]
  },
  {
   "cell_type": "code",
   "execution_count": 76,
   "metadata": {
    "_uuid": "f49ca860bef6a73d51f4895290e44612a526de33"
   },
   "outputs": [
    {
     "name": "stdout",
     "output_type": "stream",
     "text": [
      "0.8125792480070302\n",
      "{'C': 634.4624336286086, 'gamma': 0.020803824751132415}\n",
      "SVC(C=634.4624336286086, gamma=0.020803824751132415)\n"
     ]
    }
   ],
   "source": [
    "param_grid = {'C': uniform(0.1, 5000), \n",
    "              'gamma':uniform(0.0001, 1) }\n",
    "\n",
    "rand_SVC = RandomizedSearchCV(SVC(), param_distributions=param_grid, n_iter=100)\n",
    "rand_SVC.fit(X_sc,y_sc)\n",
    "\n",
    "score_rand_SVC = get_best_score(rand_SVC)"
   ]
  },
  {
   "cell_type": "markdown",
   "metadata": {
    "_uuid": "6a594145c3459d9aaba176973158f5dacecde41e"
   },
   "source": [
    "### SVC : GridSearchCV"
   ]
  },
  {
   "cell_type": "code",
   "execution_count": 77,
   "metadata": {
    "_uuid": "603bc7d529de15d538dc8c6ef3bfb342c2036ac8"
   },
   "outputs": [
    {
     "name": "stdout",
     "output_type": "stream",
     "text": [
      "Fitting 10 folds for each of 25 candidates, totalling 250 fits\n",
      "0.8338951310861423\n",
      "{'C': 1000, 'gamma': 0.001, 'kernel': 'rbf'}\n",
      "SVC(C=1000, gamma=0.001)\n"
     ]
    }
   ],
   "source": [
    "param_grid = {'C': [0.1, 10, 100, 1000, 5000], \n",
    "              'gamma': [1, 0.1, 0.01, 0.001, 0.0001], \n",
    "              'kernel': ['rbf']}\n",
    "\n",
    "svc_grid = GridSearchCV(SVC(), param_grid, cv=10, refit=True, verbose=1)\n",
    "svc_grid.fit(X_sc,y_sc)\n",
    "sc_svc = get_best_score(svc_grid)"
   ]
  },
  {
   "cell_type": "markdown",
   "metadata": {
    "_uuid": "2f3015639f8be31390455ac54009951c22bee82e"
   },
   "source": [
    "**submission for svc**"
   ]
  },
  {
   "cell_type": "code",
   "execution_count": 78,
   "metadata": {
    "_cell_guid": "29932945-d920-4a89-81ea-53ad8511a2a9",
    "_uuid": "05fb203a74d77256aebe90b2675ccf215504b918"
   },
   "outputs": [],
   "source": [
    "pred_all_svc = svc_grid.predict(X_test_sc)\n",
    "\n",
    "sub_svc = pd.DataFrame()\n",
    "sub_svc['PassengerId'] = df_test['PassengerId']\n",
    "sub_svc['Survived'] = pred_all_svc\n",
    "sub_svc.to_csv('svc.csv',index=False)"
   ]
  },
  {
   "cell_type": "code",
   "execution_count": null,
   "metadata": {
    "_cell_guid": "a9900a57-8ab2-4854-8f37-472abea9f9dc",
    "_uuid": "31729a12da01590363bfa841c08735fafef52026"
   },
   "outputs": [],
   "source": []
  },
  {
   "cell_type": "code",
   "execution_count": null,
   "metadata": {
    "_cell_guid": "eb261a2a-3f46-4c4f-ab67-374fec7c46d2",
    "_uuid": "5a8ab46ea69e4dd9ce33cf30c17a193f79880452"
   },
   "outputs": [],
   "source": []
  },
  {
   "cell_type": "markdown",
   "metadata": {
    "_cell_guid": "03631987-488f-4135-926f-72a9be0aaa31",
    "_uuid": "d13bc5baecb552485a8bcba0c388345d1c56afc5"
   },
   "source": [
    "### KNN"
   ]
  },
  {
   "cell_type": "code",
   "execution_count": null,
   "metadata": {
    "_cell_guid": "fb61ba68-6a0f-4f7a-8381-5bf7ef436ff6",
    "_uuid": "5030fdf68a3c9e8f141421ca30b3fe4809b5c8d2"
   },
   "outputs": [],
   "source": [
    "knn = KNeighborsClassifier()\n",
    "leaf_range = list(range(3, 15, 1))\n",
    "k_range = list(range(1, 15, 1))\n",
    "weight_options = ['uniform', 'distance']\n",
    "param_grid = dict(leaf_size=leaf_range, n_neighbors=k_range, weights=weight_options)\n",
    "print(param_grid)\n",
    "\n",
    "knn_grid = GridSearchCV(knn, param_grid, cv=10, verbose=1, scoring='accuracy')\n",
    "knn_grid.fit(X, y)\n",
    "\n",
    "sc_knn = get_best_score(knn_grid)"
   ]
  },
  {
   "cell_type": "markdown",
   "metadata": {
    "_uuid": "5fb4d430ea42f4a4f69afa62f502938ed57c47e4"
   },
   "source": [
    "**submission for knn**"
   ]
  },
  {
   "cell_type": "code",
   "execution_count": null,
   "metadata": {
    "_uuid": "04bbe689de6f97db1ed83673f7087ad2e4ad46e9"
   },
   "outputs": [],
   "source": [
    "pred_all_knn = knn_grid.predict(X_test)\n",
    "\n",
    "sub_knn = pd.DataFrame()\n",
    "sub_knn['PassengerId'] = df_test['PassengerId']\n",
    "sub_knn['Survived'] = pred_all_knn\n",
    "sub_knn.to_csv('knn.csv',index=False)"
   ]
  },
  {
   "cell_type": "code",
   "execution_count": null,
   "metadata": {
    "_uuid": "71bbcb6e4f40f1aac765ae2b24a66d7015a7d46a"
   },
   "outputs": [],
   "source": []
  },
  {
   "cell_type": "code",
   "execution_count": null,
   "metadata": {
    "_uuid": "a393df5668467e0016ad06e4d29c127012303596"
   },
   "outputs": [],
   "source": []
  },
  {
   "cell_type": "markdown",
   "metadata": {
    "_cell_guid": "4a3a4a08-548c-40ec-8359-72bbfeb08f6e",
    "_uuid": "8e6d934e66fbca29a5e49b0f6bab0fce33e4c755"
   },
   "source": [
    "### Decision Tree"
   ]
  },
  {
   "cell_type": "code",
   "execution_count": null,
   "metadata": {
    "_cell_guid": "06e90838-fe13-41ab-99ce-f2baff37272a",
    "_uuid": "addac6486521451d4d9ddf9dcf7a007da6a51537"
   },
   "outputs": [],
   "source": [
    "from sklearn.tree import DecisionTreeClassifier\n",
    "dtree = DecisionTreeClassifier()\n",
    "\n",
    "param_grid = {'min_samples_split': [4,7,10,12]}\n",
    "dtree_grid = GridSearchCV(dtree, param_grid, cv=10, refit=True, verbose=1)\n",
    "dtree_grid.fit(X_sc,y_sc)\n",
    "\n",
    "print(dtree_grid.best_score_)\n",
    "print(dtree_grid.best_params_)\n",
    "print(dtree_grid.best_estimator_)"
   ]
  },
  {
   "cell_type": "markdown",
   "metadata": {
    "_uuid": "e3d4fda7a93003ac2bed3ef6172e24604354cd11"
   },
   "source": [
    "**submission for decision tree**"
   ]
  },
  {
   "cell_type": "code",
   "execution_count": null,
   "metadata": {
    "_uuid": "9fa3dce6449632d519a549391f2952dfbf6847ce"
   },
   "outputs": [],
   "source": [
    "pred_all_dtree = dtree_grid.predict(X_test_sc)\n",
    "\n",
    "sub_dtree = pd.DataFrame()\n",
    "sub_dtree['PassengerId'] = df_test['PassengerId']\n",
    "sub_dtree['Survived'] = pred_all_dtree\n",
    "sub_dtree.to_csv('dtree.csv',index=False)"
   ]
  },
  {
   "cell_type": "code",
   "execution_count": null,
   "metadata": {
    "_uuid": "71b57da8edc323b75d94f5b6c6d88db156d12ed8"
   },
   "outputs": [],
   "source": []
  },
  {
   "cell_type": "markdown",
   "metadata": {
    "_cell_guid": "fa9fbf70-26fb-44dd-8f4e-70aa27f61259",
    "_uuid": "2d105da78f14879ec4ce300b502ed3fe1d38a8a4"
   },
   "source": [
    "### Random Forest"
   ]
  },
  {
   "cell_type": "code",
   "execution_count": null,
   "metadata": {
    "_cell_guid": "94fa74ea-639d-4335-ae6c-f2f4339cd403",
    "_uuid": "67f94f950d0979acf98832f884d342300477f5c8",
    "scrolled": true
   },
   "outputs": [],
   "source": [
    "from sklearn.ensemble import RandomForestClassifier\n",
    "rfc = RandomForestClassifier()\n",
    "\n",
    "param_grid = {'max_depth': [3, 5, 6, 7, 8], 'max_features': [6,7,8,9,10],  \n",
    "              'min_samples_split': [5, 6, 7, 8]}\n",
    "\n",
    "rf_grid = GridSearchCV(rfc, param_grid, cv=10, refit=True, verbose=1)\n",
    "rf_grid.fit(X_sc,y_sc)\n",
    "sc_rf = get_best_score(rf_grid)"
   ]
  },
  {
   "cell_type": "code",
   "execution_count": null,
   "metadata": {
    "_uuid": "4ecff813fe627d4fb2b033aa1077ce8b5f5cd3fc"
   },
   "outputs": [],
   "source": [
    "plot_feature_importances(rf_grid, X.columns)"
   ]
  },
  {
   "cell_type": "markdown",
   "metadata": {
    "_uuid": "cc4348a486d7428407470846fc77b8a57ed17763"
   },
   "source": [
    "**submission for random forest**"
   ]
  },
  {
   "cell_type": "code",
   "execution_count": null,
   "metadata": {
    "_cell_guid": "aac7973d-d33b-407f-95c9-2c7f3f076ef7",
    "_uuid": "d3749378b317208677589c3d65fa53eca854ca38"
   },
   "outputs": [],
   "source": [
    "pred_all_rf = rf_grid.predict(X_test_sc)\n",
    "\n",
    "sub_rf = pd.DataFrame()\n",
    "sub_rf['PassengerId'] = df_test['PassengerId']\n",
    "sub_rf['Survived'] = pred_all_rf\n",
    "sub_rf.to_csv('rf.csv',index=False)"
   ]
  },
  {
   "cell_type": "markdown",
   "metadata": {
    "_cell_guid": "dd3b574a-8a22-47a6-994d-b008a41c9143",
    "_uuid": "e517483e75f77e9c9c02282c75cd091c2d719c16"
   },
   "source": [
    "### ExtraTreesClassifier"
   ]
  },
  {
   "cell_type": "code",
   "execution_count": null,
   "metadata": {
    "_uuid": "145fbede21a34312c19c88229a2c5d439e0279dd"
   },
   "outputs": [],
   "source": [
    "from sklearn.ensemble import ExtraTreesClassifier\n",
    "extr = ExtraTreesClassifier()\n",
    "\n",
    "param_grid = {'max_depth': [6,7,8,9], 'max_features': [7,8,9,10],  \n",
    "              'n_estimators': [50, 100, 200]}\n",
    "\n",
    "extr_grid = GridSearchCV(extr, param_grid, cv=10, refit=True, verbose=1)\n",
    "extr_grid.fit(X_sc,y_sc)\n",
    "sc_extr = get_best_score(extr_grid)"
   ]
  },
  {
   "cell_type": "code",
   "execution_count": null,
   "metadata": {},
   "outputs": [],
   "source": [
    "plot_feature_importances(extr_grid, X.columns)"
   ]
  },
  {
   "cell_type": "markdown",
   "metadata": {
    "_uuid": "8d502bc5cd19bdc0075db17557fa1cab330d9c02"
   },
   "source": [
    "**submission for ExtraTreesClassifier**"
   ]
  },
  {
   "cell_type": "code",
   "execution_count": null,
   "metadata": {
    "_uuid": "9d0930cac4361959ee541b244542a1f0e7f0f9b4"
   },
   "outputs": [],
   "source": [
    "pred_all_extr = extr_grid.predict(X_test_sc)\n",
    "\n",
    "sub_extr = pd.DataFrame()\n",
    "sub_extr['PassengerId'] = df_test['PassengerId']\n",
    "sub_extr['Survived'] = pred_all_extr\n",
    "sub_extr.to_csv('extr.csv',index=False)"
   ]
  },
  {
   "cell_type": "code",
   "execution_count": null,
   "metadata": {
    "_uuid": "dcd8e60cfe8c13cc96a0f366f1890eff01e558d2"
   },
   "outputs": [],
   "source": []
  },
  {
   "cell_type": "markdown",
   "metadata": {
    "_cell_guid": "54105caa-f0b4-4e29-89a0-ea94cee6a98e",
    "_uuid": "99ad6b8343018c8fcd1efaded4aaca91f01d8699"
   },
   "source": [
    "### Gradient Boost Decision Tree GBDT \n"
   ]
  },
  {
   "cell_type": "code",
   "execution_count": null,
   "metadata": {
    "_cell_guid": "45261191-d990-4076-bc30-1a5d6d926127",
    "_uuid": "d7ee2de542a52a2eb8ec7a01536d10a2b9ea2dbb"
   },
   "outputs": [],
   "source": [
    "from sklearn.ensemble import GradientBoostingClassifier\n",
    "gbc = GradientBoostingClassifier()\n",
    "\n",
    "param_grid = {'n_estimators': [50, 100], \n",
    "              'min_samples_split': [3, 4, 5, 6, 7],\n",
    "              'max_depth': [3, 4, 5, 6]}\n",
    "gbc_grid = GridSearchCV(gbc, param_grid, cv=10, refit=True, verbose=1)\n",
    "gbc_grid.fit(X_sc,y_sc)\n",
    "sc_gbc = get_best_score(gbc_grid)"
   ]
  },
  {
   "cell_type": "code",
   "execution_count": null,
   "metadata": {
    "_uuid": "b32c4aac8070779684a0ee1e42fc72866641c425"
   },
   "outputs": [],
   "source": [
    "plot_feature_importances(gbc_grid, X.columns)"
   ]
  },
  {
   "cell_type": "markdown",
   "metadata": {
    "_uuid": "e3b518e4c1cae228a419b11241f185fb56b541df"
   },
   "source": [
    "**submission for GradientBoostingClassifier**"
   ]
  },
  {
   "cell_type": "code",
   "execution_count": null,
   "metadata": {
    "_cell_guid": "4008629e-b20a-4ec0-90e9-ffb0751fbeaf",
    "_uuid": "1f91c750bc808755873782ea26ee6855075fed52"
   },
   "outputs": [],
   "source": [
    "pred_all_gbc = gbc_grid.predict(X_test_sc)\n",
    "\n",
    "sub_gbc = pd.DataFrame()\n",
    "sub_gbc['PassengerId'] = df_test['PassengerId']\n",
    "sub_gbc['Survived'] = pred_all_gbc\n",
    "sub_gbc.to_csv('gbc.csv',index=False)"
   ]
  },
  {
   "cell_type": "markdown",
   "metadata": {
    "_uuid": "e51f6b470c2034e2f17b6f9c0139c6e9573262ea"
   },
   "source": [
    "### eXtreme Gradient Boosting - XGBoost"
   ]
  },
  {
   "cell_type": "code",
   "execution_count": null,
   "metadata": {
    "_uuid": "6966479c4961276cd6df37f0d78f7941345403cc"
   },
   "outputs": [],
   "source": [
    "from xgboost import XGBClassifier\n",
    "xgb = XGBClassifier()\n",
    "param_grid = {'max_depth': [5,6,7,8], 'gamma': [1, 2, 4], 'learning_rate': [0.1, 0.2, 0.3, 0.5]}\n",
    "\n",
    "with ignore_warnings(category=DeprecationWarning):\n",
    "    xgb_grid = GridSearchCV(xgb, param_grid, cv=10, refit=True, verbose=1)\n",
    "    xgb_grid.fit(X_sc,y_sc)\n",
    "    sc_xgb = get_best_score(xgb_grid)"
   ]
  },
  {
   "cell_type": "code",
   "execution_count": null,
   "metadata": {
    "_uuid": "4453f47803b00e85a83d3438e2636b4e37744798"
   },
   "outputs": [],
   "source": [
    "plot_feature_importances(xgb_grid, X.columns)"
   ]
  },
  {
   "cell_type": "code",
   "execution_count": null,
   "metadata": {
    "_uuid": "c37b15601bd7a8df119f3c13aa4321a88aab50a9"
   },
   "outputs": [],
   "source": [
    "with ignore_warnings(category=DeprecationWarning):\n",
    "    pred_all_xgb = xgb_grid.predict(X_test_sc)\n",
    "\n",
    "sub_xgb = pd.DataFrame()\n",
    "sub_xgb['PassengerId'] = df_test['PassengerId']\n",
    "sub_xgb['Survived'] = pred_all_xgb\n",
    "sub_xgb.to_csv('xgb.csv',index=False)"
   ]
  },
  {
   "cell_type": "markdown",
   "metadata": {
    "_cell_guid": "42205f2d-0bec-4804-93b2-d228024023bf",
    "_uuid": "e439639ae7295fb912f430048427b46ae1c22f08"
   },
   "source": [
    "### Ada Boost  "
   ]
  },
  {
   "cell_type": "code",
   "execution_count": null,
   "metadata": {
    "_cell_guid": "f8bae15c-95a5-40a8-bf8d-9529b7151df9",
    "_uuid": "59c624949d93bc9ec03f66a85dfec2adb7be2110"
   },
   "outputs": [],
   "source": [
    "from sklearn.ensemble import AdaBoostClassifier\n",
    "ada = AdaBoostClassifier()\n",
    "\n",
    "param_grid = {'n_estimators': [30, 50, 100], 'learning_rate': [0.08, 0.1, 0.2]}\n",
    "ada_grid = GridSearchCV(ada, param_grid, cv=10, refit=True, verbose=1)\n",
    "ada_grid.fit(X_sc,y_sc)\n",
    "sc_ada = get_best_score(ada_grid)\n",
    "\n",
    "pred_all_ada = ada_grid.predict(X_test_sc)"
   ]
  },
  {
   "cell_type": "code",
   "execution_count": null,
   "metadata": {},
   "outputs": [],
   "source": [
    "plot_feature_importances(ada_grid, X.columns)"
   ]
  },
  {
   "cell_type": "code",
   "execution_count": null,
   "metadata": {
    "_uuid": "06cbeecfc55de4f5a70a3b5e03d55b3ac90b4534"
   },
   "outputs": [],
   "source": [
    "sub_ada = pd.DataFrame()\n",
    "sub_ada['PassengerId'] = df_test['PassengerId']\n",
    "sub_ada['Survived'] = pred_all_ada\n",
    "sub_ada.to_csv('ada.csv',index=False)"
   ]
  },
  {
   "cell_type": "markdown",
   "metadata": {
    "_uuid": "bd271e7ac130d883357bcc9d1af1594435fbc8d6"
   },
   "source": [
    "### CatBoost\n",
    "library for gradient boosting on decision trees with categorical features support"
   ]
  },
  {
   "cell_type": "code",
   "execution_count": 80,
   "metadata": {
    "_uuid": "f33b86382c56828b46590915dc1aedfd12c5f64c"
   },
   "outputs": [
    {
     "name": "stdout",
     "output_type": "stream",
     "text": [
      "Fitting 10 folds for each of 6 candidates, totalling 60 fits\n",
      "0.8384269662921348\n",
      "{'iterations': 100, 'learning_rate': 0.3, 'loss_function': 'Logloss'}\n",
      "<catboost.core.CatBoostClassifier object at 0x7f874ef96070>\n"
     ]
    }
   ],
   "source": [
    "from catboost import CatBoostClassifier\n",
    "cat=CatBoostClassifier()\n",
    "\n",
    "param_grid = {'iterations': [100, 150], 'learning_rate': [0.3, 0.4, 0.5], 'loss_function' : ['Logloss']}\n",
    "\n",
    "cat_grid = GridSearchCV(cat, param_grid, cv=10, refit=True, verbose=1)\n",
    "cat_grid.fit(X_sc,y_sc, verbose=False)\n",
    "sc_cat = get_best_score(cat_grid)\n",
    "\n",
    "pred_all_cat = cat_grid.predict(X_test_sc)"
   ]
  },
  {
   "cell_type": "code",
   "execution_count": 81,
   "metadata": {},
   "outputs": [
    {
     "data": {
      "image/png": "[encoded data removed]",
      "text/plain": [
       "<Figure size 504x360 with 1 Axes>"
      ]
     },
     "metadata": {},
     "output_type": "display_data"
    }
   ],
   "source": [
    "plot_feature_importances(cat_grid, X.columns)"
   ]
  },
  {
   "cell_type": "code",
   "execution_count": 157,
   "metadata": {},
   "outputs": [],
   "source": [
    "from sklearn.feature_selection import SelectFpr"
   ]
  },
  {
   "cell_type": "code",
   "execution_count": null,
   "metadata": {},
   "outputs": [],
   "source": [
    "# 2 ** d"
   ]
  },
  {
   "cell_type": "code",
   "execution_count": null,
   "metadata": {
    "_uuid": "39390a556cf5f78ff9a5bd20d7728b04918d8a8d"
   },
   "outputs": [],
   "source": [
    "sub_cat = pd.DataFrame()\n",
    "sub_cat['PassengerId'] = df_test['PassengerId']\n",
    "sub_cat['Survived'] = pred_all_cat\n",
    "sub_cat['Survived'] = sub_cat['Survived'].astype(int)\n",
    "sub_cat.to_csv('cat.csv',index=False)"
   ]
  },
  {
   "cell_type": "markdown",
   "metadata": {
    "_uuid": "92e5e4f65ff196f684df7c961167232f5cace6ed"
   },
   "source": [
    "### lightgbm LGBM"
   ]
  },
  {
   "cell_type": "code",
   "execution_count": null,
   "metadata": {
    "_uuid": "ce41fc79dd2930eb7187430e8361c95ed6fda615"
   },
   "outputs": [],
   "source": [
    "import lightgbm as lgb\n",
    "lgbm = lgb.LGBMClassifier(silent=False)\n",
    "param_grid = {\"max_depth\": [8,10,15], \"learning_rate\" : [0.008,0.01,0.012], \n",
    "              \"num_leaves\": [80,100,120], \"n_estimators\": [200,250]  }\n",
    "lgbm_grid = GridSearchCV(lgbm, param_grid, cv=10, refit=True, verbose=1)\n",
    "lgbm_grid.fit(X_sc,y_sc, verbose=True)\n",
    "sc_lgbm = get_best_score(lgbm_grid)\n",
    "\n",
    "pred_all_lgbm = lgbm_grid.predict(X_test_sc)"
   ]
  },
  {
   "cell_type": "code",
   "execution_count": null,
   "metadata": {},
   "outputs": [],
   "source": [
    "plot_feature_importances(lgbm_grid, X.columns)"
   ]
  },
  {
   "cell_type": "code",
   "execution_count": null,
   "metadata": {
    "_uuid": "69db52536c829fe04e45ff39a9eb5fc9b7d7bd5a"
   },
   "outputs": [],
   "source": [
    "sub_lgbm = pd.DataFrame()\n",
    "sub_lgbm['PassengerId'] = df_test['PassengerId']\n",
    "sub_lgbm['Survived'] = pred_all_lgbm\n",
    "sub_lgbm.to_csv('lgbm.csv',index=False)"
   ]
  },
  {
   "cell_type": "markdown",
   "metadata": {
    "_cell_guid": "1927829e-6d45-4390-be9d-a885eb25d6f7",
    "_uuid": "8e46d7b89e307c8cd2663a9eadd2a083cc3be40e",
    "collapsed": true
   },
   "source": [
    "### VotingClassifier"
   ]
  },
  {
   "cell_type": "code",
   "execution_count": null,
   "metadata": {
    "_uuid": "825308d36df8846d900ed179c4ce46f83ca0bdf5"
   },
   "outputs": [],
   "source": [
    "from sklearn.ensemble import VotingClassifier"
   ]
  },
  {
   "cell_type": "markdown",
   "metadata": {
    "_uuid": "7bedb68e99f297396a33a18134c2aaede04f58d6"
   },
   "source": [
    "### First Voting  \n",
    "for the first voting ensemble I use three simple models (LR, RF, GNB)"
   ]
  },
  {
   "cell_type": "code",
   "execution_count": null,
   "metadata": {
    "_cell_guid": "a09cec68-1c3f-46c2-8430-2fd009cf2135",
    "_uuid": "f71b32340e1a84fbc35243af6beab9211527be61"
   },
   "outputs": [],
   "source": [
    "from sklearn.linear_model import LogisticRegression\n",
    "from sklearn.naive_bayes import GaussianNB\n",
    "\n",
    "clf1 = LogisticRegression(random_state=1)\n",
    "clf2 = RandomForestClassifier(random_state=1)\n",
    "clf3 = GaussianNB()\n",
    "\n",
    "eclf = VotingClassifier(estimators=[('lr', clf1), ('rf', clf2), ('gnb', clf3)], voting='soft')\n",
    "\n",
    "params = {'lr__C': [1.0, 100.0], 'rf__n_estimators': [20, 200],}\n",
    "\n",
    "with ignore_warnings(category=DeprecationWarning):\n",
    "    votingclf_grid = GridSearchCV(estimator=eclf, param_grid=params, cv=10)\n",
    "    votingclf_grid.fit(X_sc,y_sc)\n",
    "    sc_vot1 = get_best_score(votingclf_grid)"
   ]
  },
  {
   "cell_type": "markdown",
   "metadata": {
    "_cell_guid": "43692a06-ffd6-4aec-aebb-aaff1d861abd",
    "_uuid": "caf1818b6386fe31995c1425c0ec54c5df9004e0",
    "collapsed": true
   },
   "source": [
    "### Second Voting\n",
    "\n",
    "for the 2nd voting ensemble I use the three models (together with the optimal parameters found by GridSearchCV)  \n",
    "that had the best test score based on the cross validations above "
   ]
  },
  {
   "cell_type": "code",
   "execution_count": null,
   "metadata": {
    "_cell_guid": "2c283605-a92d-4f08-9e02-bf1e8d4a31ea",
    "_uuid": "8022b76388d4911ab530b0da9bb956addf23c412"
   },
   "outputs": [],
   "source": [
    "clf4 = GradientBoostingClassifier()\n",
    "clf5 = SVC()\n",
    "clf6 = RandomForestClassifier()\n",
    "\n",
    "eclf_2 = VotingClassifier(estimators=[('gbdt', clf4), \n",
    "                                      ('svc', clf5), \n",
    "                                      ('rf', clf6)], voting='soft')\n",
    "\n",
    "params = {'gbdt__n_estimators': [50], 'gbdt__min_samples_split': [3],\n",
    "          'svc__C': [10, 100] , 'svc__gamma': [0.1,0.01,0.001] , 'svc__kernel': ['rbf'] , 'svc__probability': [True],  \n",
    "          'rf__max_depth': [7], 'rf__max_features': [2,3], 'rf__min_samples_split': [3] } \n",
    "\n",
    "with ignore_warnings(category=DeprecationWarning):\n",
    "    votingclf_grid_2 = GridSearchCV(estimator=eclf_2, param_grid=params, cv=10)\n",
    "    votingclf_grid_2.fit(X_sc,y_sc)\n",
    "    sc_vot2_cv = get_best_score(votingclf_grid_2)"
   ]
  },
  {
   "cell_type": "code",
   "execution_count": null,
   "metadata": {
    "_cell_guid": "5a7db445-d462-4ba7-a052-119b2dfde2c0",
    "_uuid": "66693e8e1dbb49f0c088441968020808a7d41efd"
   },
   "outputs": [],
   "source": [
    "with ignore_warnings(category=DeprecationWarning):    \n",
    "    pred_all_vot2 = votingclf_grid_2.predict(X_test_sc)\n",
    "\n",
    "sub_vot2 = pd.DataFrame()\n",
    "sub_vot2['PassengerId'] = df_test['PassengerId']\n",
    "sub_vot2['Survived'] = pred_all_vot2\n",
    "sub_vot2.to_csv('vot2.csv',index=False)"
   ]
  },
  {
   "cell_type": "code",
   "execution_count": null,
   "metadata": {
    "_uuid": "8583e23b7c68b76fca7918c343242d18b1c92c14"
   },
   "outputs": [],
   "source": []
  },
  {
   "cell_type": "markdown",
   "metadata": {
    "_uuid": "0617941bdc6f20c08db800b323eb3eacb2d96c10"
   },
   "source": [
    "### StackingClassifier"
   ]
  },
  {
   "cell_type": "code",
   "execution_count": null,
   "metadata": {
    "_uuid": "126024d09787821f01ba799f013f6bf5517ac645"
   },
   "outputs": [],
   "source": [
    "from mlxtend.classifier import StackingClassifier"
   ]
  },
  {
   "cell_type": "code",
   "execution_count": null,
   "metadata": {
    "_uuid": "609d38273884ed6192f7be6229a6a36b1d31cfdd"
   },
   "outputs": [],
   "source": [
    "# Initializing models\n",
    "clf1 = xgb_grid.best_estimator_\n",
    "clf2 = gbc_grid.best_estimator_\n",
    "clf3 = rf_grid.best_estimator_\n",
    "clf4 = svc_grid.best_estimator_\n",
    "\n",
    "lr = LogisticRegression()\n",
    "st_clf = StackingClassifier(classifiers=[clf1, clf1, clf2, clf3, clf4], meta_classifier=lr)\n",
    "\n",
    "params = {'meta_classifier__C': [0.1,1.0,5.0,10.0] ,\n",
    "          #'use_probas': [True] ,\n",
    "          #'average_probas': [True] ,\n",
    "          'use_features_in_secondary' : [True, False]\n",
    "         }\n",
    "with ignore_warnings(category=DeprecationWarning):\n",
    "    st_clf_grid = GridSearchCV(estimator=st_clf, param_grid=params, cv=5, refit=True)\n",
    "    st_clf_grid.fit(X_sc, y_sc)\n",
    "    sc_st_clf = get_best_score(st_clf_grid)"
   ]
  },
  {
   "cell_type": "code",
   "execution_count": null,
   "metadata": {},
   "outputs": [],
   "source": [
    "with ignore_warnings(category=DeprecationWarning):    \n",
    "    pred_all_stack = st_clf_grid.predict(X_test_sc)\n",
    "\n",
    "sub_stack = pd.DataFrame()\n",
    "sub_stack['PassengerId'] = df_test['PassengerId']\n",
    "sub_stack['Survived'] = pred_all_stack\n",
    "sub_stack.to_csv('stack_clf.csv',index=False)"
   ]
  },
  {
   "cell_type": "code",
   "execution_count": null,
   "metadata": {},
   "outputs": [],
   "source": []
  },
  {
   "cell_type": "code",
   "execution_count": null,
   "metadata": {
    "_uuid": "8e3db5aa4420301a442a48fce47167adaedec2f3"
   },
   "outputs": [],
   "source": []
  },
  {
   "cell_type": "markdown",
   "metadata": {
    "_uuid": "b0b0e20f0d1bc0ed662a2ed89016a340210c5620"
   },
   "source": [
    "### Comparison plot for best models"
   ]
  },
  {
   "cell_type": "markdown",
   "metadata": {
    "_uuid": "76b9d7c6bd106173cd6885c9dc9785ccda259c73"
   },
   "source": [
    "### scores from GridSearchCV"
   ]
  },
  {
   "cell_type": "code",
   "execution_count": null,
   "metadata": {
    "_uuid": "afbb2b589c7ec79f04003bad7a91f05dd817b79d"
   },
   "outputs": [],
   "source": [
    "list_scores = [sc_knn, sc_rf, sc_extr, sc_svc, sc_gbc, sc_xgb, \n",
    "               sc_ada, sc_cat, sc_lgbm, sc_vot2_cv, sc_st_clf]\n",
    "\n",
    "list_classifiers = ['KNN','RF','EXTR','SVC','GBC','XGB',\n",
    "                    'ADA','CAT','LGBM','VOT2','STACK']"
   ]
  },
  {
   "cell_type": "markdown",
   "metadata": {
    "_uuid": "46332870242388b3f2770fd5cc568903d9f599fb"
   },
   "source": [
    "### submission scores"
   ]
  },
  {
   "cell_type": "code",
   "execution_count": null,
   "metadata": {
    "_uuid": "85031331c9c1ba64a30e03f70227ad01e5a7c444"
   },
   "outputs": [],
   "source": [
    "score_subm_svc   = 0.80861\n",
    "score_subm_vot2  = 0.78947\n",
    "score_subm_ada   = 0.78468\n",
    "score_subm_lgbm  = 0.78468\n",
    "score_subm_rf    = 0.77990\n",
    "score_subm_xgb   = 0.77033\n",
    "score_subm_dtree = 0.76076\n",
    "score_subm_extr  = 0.76076\n",
    "score_subm_gbc   = 0.74641\n",
    "score_subm_cat   = 0.74162\n",
    "score_subm_knn   = 0.69856\n",
    "\n",
    "score_subm_stack = 0.76076"
   ]
  },
  {
   "cell_type": "code",
   "execution_count": null,
   "metadata": {
    "_uuid": "7b3b2cd9d1bb71101ca9b61e33392a6b2e106435"
   },
   "outputs": [],
   "source": [
    "subm_scores = [score_subm_knn, score_subm_rf, score_subm_extr, score_subm_svc, \n",
    "               score_subm_gbc, score_subm_xgb, score_subm_ada, score_subm_cat, \n",
    "               score_subm_lgbm, score_subm_vot2, score_subm_stack]"
   ]
  },
  {
   "cell_type": "code",
   "execution_count": null,
   "metadata": {
    "_uuid": "107528a3320f73d22436aa9f327cd96f72a543d2"
   },
   "outputs": [],
   "source": [
    "trace1 = go.Scatter(x = list_classifiers, y = list_scores,\n",
    "                   name=\"Validation\", text = list_classifiers)\n",
    "trace2 = go.Scatter(x = list_classifiers, y = subm_scores,\n",
    "                   name=\"Submission\", text = list_classifiers)\n",
    "\n",
    "data = [trace1, trace2]\n",
    "\n",
    "layout = dict(title = \"Validation and Submission Scores\", \n",
    "              xaxis=dict(ticklen=10, zeroline= False),\n",
    "              yaxis=dict(title = \"Accuracy\", side='left', ticklen=10,),                                  \n",
    "              legend=dict(orientation=\"v\", x=1.05, y=1.0),\n",
    "              autosize=False, width=750, height=500,\n",
    "              )\n",
    "\n",
    "fig = dict(data = data, layout = layout)\n",
    "iplot(fig)"
   ]
  },
  {
   "cell_type": "markdown",
   "metadata": {
    "_uuid": "7f89727b32911f50947ae1a8b0de86b396a3c387"
   },
   "source": [
    "### Correlation of prediction results"
   ]
  },
  {
   "cell_type": "code",
   "execution_count": null,
   "metadata": {
    "_uuid": "27f80058db8f79223115f12abdaeb45e381e89d4"
   },
   "outputs": [],
   "source": [
    "predictions = {'KNN': pred_all_knn, 'RF': pred_all_rf, 'EXTR': pred_all_extr, \n",
    "               'SVC': pred_all_svc, 'GBC': pred_all_gbc, 'XGB': pred_all_xgb, \n",
    "               'ADA': pred_all_ada, 'CAT': pred_all_cat, 'LGBM': pred_all_lgbm, \n",
    "               'VOT2': pred_all_vot2, 'STACK': pred_all_stack}\n",
    "df_predictions = pd.DataFrame(data=predictions) \n",
    "df_predictions.corr()"
   ]
  },
  {
   "cell_type": "code",
   "execution_count": null,
   "metadata": {
    "_uuid": "eb0d208b74b9c5e2e827515df881674c225450b3"
   },
   "outputs": [],
   "source": [
    "plt.figure(figsize=(9, 9))\n",
    "sns.set(font_scale=1.25)\n",
    "sns.heatmap(df_predictions.corr(), linewidths=1.5, annot=True, square=True, \n",
    "                fmt='.2f', annot_kws={'size': 10}, \n",
    "                yticklabels=df_predictions.columns , xticklabels=df_predictions.columns\n",
    "            )\n",
    "plt.yticks(rotation=0)\n",
    "plt.show()"
   ]
  },
  {
   "cell_type": "code",
   "execution_count": null,
   "metadata": {
    "_uuid": "29e4bad471a2175a00638855d4f0838f4b897bc2"
   },
   "outputs": [],
   "source": []
  },
  {
   "cell_type": "markdown",
   "metadata": {},
   "source": [
    "### Compare feature importances"
   ]
  },
  {
   "cell_type": "code",
   "execution_count": null,
   "metadata": {},
   "outputs": [],
   "source": [
    "imp_rf   = pd.Series(data = rf_grid.best_estimator_.feature_importances_, index=X.columns)\n",
    "imp_extr = pd.Series(data = extr_grid.best_estimator_.feature_importances_, index=X.columns)\n",
    "imp_gbc = pd.Series(data = gbc_grid.best_estimator_.feature_importances_, index=X.columns)\n",
    "imp_xgb = pd.Series(data = xgb_grid.best_estimator_.feature_importances_, index=X.columns)\n",
    "imp_ada = pd.Series(data = ada_grid.best_estimator_.feature_importances_, index=X.columns)\n",
    "imp_cat = pd.Series(data = cat_grid.best_estimator_.feature_importances_ / 100, index=X.columns)\n",
    "imp_lgbm = pd.Series(data = lgbm_grid.best_estimator_.feature_importances_ / 10000, index=X.columns)\n",
    "imp_lgbm /= imp_lgbm.sum()"
   ]
  },
  {
   "cell_type": "code",
   "execution_count": null,
   "metadata": {},
   "outputs": [],
   "source": [
    "models=['RF', 'EXTR', 'GBC', 'XGB', 'ADA', 'CAT', 'LGBM']\n",
    "\n",
    "fig = go.Figure(data=[\n",
    "    go.Bar(name=models[0],  x=imp_rf.index,   y=imp_rf.values),\n",
    "    go.Bar(name=models[1],  x=imp_extr.index, y=imp_extr.values),\n",
    "    go.Bar(name=models[2],  x=imp_gbc.index,  y=imp_gbc.values),   \n",
    "    go.Bar(name=models[3],  x=imp_xgb.index,  y=imp_xgb.values),    \n",
    "    go.Bar(name=models[4],  x=imp_ada.index,  y=imp_ada.values),        \n",
    "    go.Bar(name=models[5],  x=imp_cat.index,  y=imp_cat.values),  \n",
    "    go.Bar(name=models[6],  x=imp_lgbm.index, y=imp_lgbm.values),  \n",
    "])\n",
    "\n",
    "fig.update_layout(barmode='group')\n",
    "fig.update_layout(title=go.layout.Title(\n",
    "                  text=\"Feature importances for Ensemble models\",\n",
    "                  xref=\"paper\",\n",
    "                  x=0.5))\n",
    "fig.show()"
   ]
  },
  {
   "cell_type": "code",
   "execution_count": null,
   "metadata": {},
   "outputs": [],
   "source": []
  },
  {
   "cell_type": "code",
   "execution_count": null,
   "metadata": {},
   "outputs": [],
   "source": []
  },
  {
   "cell_type": "markdown",
   "metadata": {
    "_uuid": "12bffd1e7ddac93c8561027730ff8f5e2650a6b0"
   },
   "source": [
    "### **Conclusion**"
   ]
  },
  {
   "cell_type": "markdown",
   "metadata": {
    "_uuid": "db4fee19be178192da4e597a677ba92ca7d89469"
   },
   "source": [
    "* With this kernel we studied EDA with **Seaborn** including some unusual plots like violin and swarm.   \n",
    "* Based on the EDA we filled missing values according to related features and developed new features (**Feature Engineering**) to improve model performance.  \n",
    "* In Part 3 we learned basics of applying **ensemble models** for classification like **Boosting**, **Stacking** and **Voting**.   \n",
    "* For this we applied libraries like: **sklearn, mlxtend, lightgbm, catboost, xgboost**"
   ]
  },
  {
   "cell_type": "markdown",
   "metadata": {
    "_uuid": "8f6ae2fa0e00b12c3155b6d8f73499bb300e92b2"
   },
   "source": [
    "**This is my second notebook for the Titanic classification competition.**\n",
    "\n",
    "If you are new to Machine Learning, have a look at  **[my first Titanic notebook](https://www.kaggle.com/dejavu23/titanic-survival-for-beginners-eda-to-ml)** where  I studied the  \n",
    "basics of EDA with Pandas and Matplotlib and how to do Classification with the scikit-learn library.  "
   ]
  },
  {
   "cell_type": "code",
   "execution_count": null,
   "metadata": {
    "_uuid": "e009d955d3bde8ae231f4a7914857b3c23e1c54e"
   },
   "outputs": [],
   "source": []
  }
 ],
 "metadata": {
  "kernelspec": {
   "display_name": "Python 3",
   "language": "python",
   "name": "python3"
  },
  "language_info": {
   "codemirror_mode": {
    "name": "ipython",
    "version": 3
   },
   "file_extension": ".py",
   "mimetype": "text/x-python",
   "name": "python",
   "nbconvert_exporter": "python",
   "pygments_lexer": "ipython3",
   "version": "3.8.5"
  }
 },
 "nbformat": 4,
 "nbformat_minor": 4
}
